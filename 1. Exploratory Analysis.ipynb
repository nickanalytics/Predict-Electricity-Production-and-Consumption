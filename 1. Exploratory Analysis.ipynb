{
 "cells": [
  {
   "cell_type": "markdown",
   "metadata": {},
   "source": [
    "### INTRO"
   ]
  },
  {
   "cell_type": "markdown",
   "metadata": {},
   "source": [
    "Notebook https://www.kaggle.com/code/siddhvr/enefit-pebop-eda-plotly-and-modelling/notebook\n",
    "\n",
    "Basic Submission Demo: https://www.kaggle.com/code/sohier/enefit-basic-submission-demo/notebook\n",
    "\n",
    "Overview: https://www.kaggle.com/competitions/predict-energy-behavior-of-prosumers/overview"
   ]
  },
  {
   "cell_type": "markdown",
   "metadata": {},
   "source": [
    "Dataset Description\n",
    "Your challenge in this competition is to predict the amount of electricity produced and consumed by Estonian energy customers who have installed solar panels. \n",
    "You'll have access to:\n",
    "- weather data\n",
    "- relevant energy prices, \n",
    "- records of the installed photovoltaic capacity.\n",
    "\n",
    "💡 Nota bene:\n",
    "All datasets follow the same time convention. \n",
    "- Time is given in EET/EEST. Most of the variables are a sum or an average over a period of 1 hour. \n",
    "- The datetime column (whatever its name) always gives the START of the 1-hour period. \n",
    "- However, for the weather datasets, some variables such as temperature or cloud cover, are given for a specific time, which is always the END of the 1-hour period.\n",
    "\n",
    "TRAIN.csv\n",
    "- county - An ID code for the county.\n",
    "- is_business - Boolean for whether or not the prosumer is a business.\n",
    "- product_type - ID code with the following mapping of codes to contract types: {0: \"Combined\", 1: \"Fixed\", 2: \"General service\", 3: \"Spot\"}.\n",
    "- TARGET - The consumption or production amount for the relevant segment for the hour. The segments are defined by the county, is_business, and product_type.\n",
    "- is_consumption - Boolean for whether or not this row's target is consumption or production.\n",
    "- datetime - The Estonian time in EET (UTC+2) / EEST (UTC+3). It describes the START of the 1-hour period on which target is given.\n",
    "- data_block_id - All rows sharing the same data_block_id will be available at the SAME FORECAST TIME. This is a function of what information is available when forecasts are actually made, at 11 AM EACH MORNING. For example, if the forecast weather data_block_id for predictins made on October 31st is 100 then the historic weather data_block_id for October 31st will be 101 as the historic weather data is only actually available the next day.\n",
    "- row_id - A unique identifier for the row.\n",
    "- prediction_unit_id - A unique identifier for the county, is_business, and product_type combination. New prediction units can appear or disappear in the test set.\n",
    "\n",
    "\n",
    "FORECAST_WEATHER.csv (records: 3.424512, 18 columns)\n",
    "\n",
    "Weather forecasts that would have been available at prediction time. Sourced from the European Centre for Medium-Range Weather Forecasts.\n",
    "\n",
    "min: 2021-09-01 02:00:00 \n",
    "max: 2023-05-30 02:00:00\n",
    "\n",
    "112 GPS areas, each with 1 prediction per hour, each 1,2,3,4...48 hours ahead\n",
    "records per hour: 112 x 48 (hours ahead) = 5376\n",
    "records per 24h day: 112 x 24 x 48 = 129.024\n",
    "637 data_block_id's\n",
    "\n",
    "- [latitude/longitude] - The coordinates of the weather forecast.\n",
    "- origin_datetime - The timestamp of when the forecast was generated.\n",
    "- hours_ahead - The number of hours between the forecast generation and the forecast weather. Each forecast covers 48 hours in total.\n",
    "- temperature - The air temperature at 2 meters above ground in degrees Celsius. Estimated for the end of the 1-hour period.\n",
    "- dewpoint - The dew point temperature at 2 meters above ground in degrees Celsius. Estimated for the end of the 1-hour period.\n",
    "- cloudcover_[low/mid/high/total] - The percentage of the sky covered by clouds in the following altitude bands: 0-2 km, 2-6, 6+, and total. Estimated for the end of the 1-hour period.\n",
    "- 10_metre_[u/v]_wind_component - The [eastward/northward] component of wind speed measured 10 meters above surface in meters per second. Estimated for the end of the 1-hour period.\n",
    "- data_block_id\n",
    "- forecast_datetime - The timestamp of the predicted weather. Generated from origin_datetime plus hours_ahead. This represents the start of the 1-hour period for which weather data are forecasted.\n",
    "- direct_solar_radiation - The direct solar radiation reaching the surface on a plane perpendicular to the direction of the Sun accumulated during the hour, in watt-hours per square meter.\n",
    "- surface_solar_radiation_downwards - The solar radiation, both direct and diffuse, that reaches a horizontal plane at the surface of the Earth, accumulated during the hour, in watt-hours per square meter.\n",
    "- snowfall - Snowfall over hour in units of meters of water equivalent.\n",
    "- total_precipitation - The accumulated liquid, comprising rain and snow that falls on Earth's surface over the described hour, in units of meters.\n",
    "\n",
    "HISTORICAL_WEATHER.csv Historic weather data.\n",
    "\n",
    "- datetime - This represents the start of the 1-hour period for which weather data are measured.\n",
    "- temperature - Measured at the end of the 1-hour period.\n",
    "- dewpoint - Measured at the end of the 1-hour period.\n",
    "- rain - Different from the forecast conventions. The rain from large scale weather systems of the hour in millimeters.\n",
    "- snowfall - Different from the forecast conventions. Snowfall over the hour in centimeters.\n",
    "- surface_pressure - The air pressure at surface in hectopascals.\n",
    "- cloudcover_[low/mid/high/total] - Different from the forecast conventions. Cloud cover at 0-3 km, 3-8, 8+, and total.\n",
    "- windspeed_10m - Different from the forecast conventions. The wind speed at 10 meters above ground in meters per second.\n",
    "- winddirection_10m - Different from the forecast conventions. The wind direction at 10 meters above ground in degrees.\n",
    "- shortwave_radiation - Different from the forecast conventions. The global horizontal irradiation in watt-hours per square meter.\n",
    "- direct_solar_radiation\n",
    "- diffuse_radiation - Different from the forecast conventions. The diffuse solar irradiation in watt-hours per square meter.\n",
    "- [latitude/longitude] - The coordinates of the weather station.\n",
    "- data_block_id\n",
    "\n",
    "GAS_PRICES.csv\n",
    "\n",
    "- origin_date - The date when the day-ahead prices became available.\n",
    "- forecast_date - The date when the forecast prices should be relevant.\n",
    "- [lowest/highest]_price_per_mwh - The lowest/highest price of natural gas that on the day ahead market that trading day, in Euros per megawatt hour equivalent.\n",
    "- data_block_id\n",
    "\n",
    "CLIENT.csv\n",
    "\n",
    "- product_type {0: \"Combined\", 1: \"Fixed\", 2: \"General service\", 3: \"Spot\"}\n",
    "- county - See county_id_to_name_map.json for the mapping of ID codes to county names.\n",
    "- eic_count - The aggregated number of consumption points (EICs - European Identifier Code).\n",
    "- installed_capacity - Installed photovoltaic solar panel capacity in kilowatts.\n",
    "- is_business - Boolean for whether or not the prosumer is a business.\n",
    "- date (one day) 2021-09-01\n",
    "- data_block_id (count=636)\n",
    "\n",
    "ELECTRICITY_PRICES.csv\n",
    "\n",
    "- origin_date - ...The date when the day-ahead prices became available?\n",
    "- forecast_date - Represents the start of the 1-hour period when the price is valid\n",
    "- euros_per_mwh - The price of electricity on the day ahead markets in euros per megawatt hour.\n",
    "- data_block_id\n",
    "\n",
    "\n",
    "public_timeseries_testing_util.py An optional file intended to make it easier to run custom offline API tests. See the script's docstring for details. You will need to edit this file before using it.\n",
    "\n",
    "example_test_files/ Data intended to illustrate how the API functions. Includes the same files and columns delivered by the API. The first three data_block_ids are repeats of the last three data_block_ids in the train set.\n",
    "\n",
    "example_test_files/sample_submission.csv A valid sample submission, delivered by the API. See this notebook for a very simple example of how to use the sample submission.\n",
    "\n",
    "example_test_files/revealed_targets.csv The actual target values from the day before the forecast time. This amounts to two days of lag relative to the prediction times in the test.csv.\n",
    "\n",
    "enefit/ Files that enable the API. Expect the API to deliver all rows in under 15 minutes and to reserve less than 0.5 GB of memory. The copy of the API that you can download serves the data from example_test_files/. You must make predictions for those dates in order to advance the API but those predictions are not scored. Expect to see roughly three months of data delivered initially and up to ten months of data by the end of the forecasting period."
   ]
  },
  {
   "cell_type": "markdown",
   "metadata": {},
   "source": [
    "### Load the Packages"
   ]
  },
  {
   "cell_type": "code",
   "execution_count": 1,
   "metadata": {},
   "outputs": [],
   "source": [
    "# Load packages\n",
    "import numpy as np\n",
    "import pandas as pd\n",
    "import matplotlib.pyplot as plt\n",
    "import seaborn as sns\n",
    "import json"
   ]
  },
  {
   "cell_type": "code",
   "execution_count": 2,
   "metadata": {},
   "outputs": [],
   "source": [
    "import warnings\n",
    "warnings.filterwarnings(\"ignore\")"
   ]
  },
  {
   "cell_type": "markdown",
   "metadata": {},
   "source": [
    "### Analyze Client Data (client.csv)"
   ]
  },
  {
   "cell_type": "code",
   "execution_count": 3,
   "metadata": {},
   "outputs": [
    {
     "data": {
      "text/html": [
       "<div>\n",
       "<style scoped>\n",
       "    .dataframe tbody tr th:only-of-type {\n",
       "        vertical-align: middle;\n",
       "    }\n",
       "\n",
       "    .dataframe tbody tr th {\n",
       "        vertical-align: top;\n",
       "    }\n",
       "\n",
       "    .dataframe thead th {\n",
       "        text-align: right;\n",
       "    }\n",
       "</style>\n",
       "<table border=\"1\" class=\"dataframe\">\n",
       "  <thead>\n",
       "    <tr style=\"text-align: right;\">\n",
       "      <th></th>\n",
       "      <th>product_type</th>\n",
       "      <th>county</th>\n",
       "      <th>eic_count</th>\n",
       "      <th>installed_capacity</th>\n",
       "      <th>is_business</th>\n",
       "      <th>date</th>\n",
       "      <th>data_block_id</th>\n",
       "    </tr>\n",
       "  </thead>\n",
       "  <tbody>\n",
       "    <tr>\n",
       "      <th>0</th>\n",
       "      <td>1</td>\n",
       "      <td>0</td>\n",
       "      <td>108</td>\n",
       "      <td>952.89</td>\n",
       "      <td>0</td>\n",
       "      <td>2021-09-01</td>\n",
       "      <td>2</td>\n",
       "    </tr>\n",
       "    <tr>\n",
       "      <th>1</th>\n",
       "      <td>2</td>\n",
       "      <td>0</td>\n",
       "      <td>17</td>\n",
       "      <td>166.40</td>\n",
       "      <td>0</td>\n",
       "      <td>2021-09-01</td>\n",
       "      <td>2</td>\n",
       "    </tr>\n",
       "    <tr>\n",
       "      <th>2</th>\n",
       "      <td>3</td>\n",
       "      <td>0</td>\n",
       "      <td>688</td>\n",
       "      <td>7207.88</td>\n",
       "      <td>0</td>\n",
       "      <td>2021-09-01</td>\n",
       "      <td>2</td>\n",
       "    </tr>\n",
       "    <tr>\n",
       "      <th>3</th>\n",
       "      <td>0</td>\n",
       "      <td>0</td>\n",
       "      <td>5</td>\n",
       "      <td>400.00</td>\n",
       "      <td>1</td>\n",
       "      <td>2021-09-01</td>\n",
       "      <td>2</td>\n",
       "    </tr>\n",
       "    <tr>\n",
       "      <th>4</th>\n",
       "      <td>1</td>\n",
       "      <td>0</td>\n",
       "      <td>43</td>\n",
       "      <td>1411.00</td>\n",
       "      <td>1</td>\n",
       "      <td>2021-09-01</td>\n",
       "      <td>2</td>\n",
       "    </tr>\n",
       "  </tbody>\n",
       "</table>\n",
       "</div>"
      ],
      "text/plain": [
       "   product_type  county  eic_count  installed_capacity  is_business  \\\n",
       "0             1       0        108              952.89            0   \n",
       "1             2       0         17              166.40            0   \n",
       "2             3       0        688             7207.88            0   \n",
       "3             0       0          5              400.00            1   \n",
       "4             1       0         43             1411.00            1   \n",
       "\n",
       "         date  data_block_id  \n",
       "0  2021-09-01              2  \n",
       "1  2021-09-01              2  \n",
       "2  2021-09-01              2  \n",
       "3  2021-09-01              2  \n",
       "4  2021-09-01              2  "
      ]
     },
     "execution_count": 3,
     "metadata": {},
     "output_type": "execute_result"
    }
   ],
   "source": [
    "# Load data from the csv file\n",
    "\n",
    "df_client = pd.read_csv('data/client.csv', keep_default_na=False)\n",
    "# client.columns = df_train.columns.str.lower()\n",
    "\n",
    "pd.set_option('display.max_columns', 10)\n",
    "df_client.head(5)"
   ]
  },
  {
   "cell_type": "code",
   "execution_count": 4,
   "metadata": {},
   "outputs": [
    {
     "name": "stdout",
     "output_type": "stream",
     "text": [
      "2021-09-01 2021-09-01\n"
     ]
    }
   ],
   "source": [
    "print(df_client['date'].min(), df_client['date'].min())"
   ]
  },
  {
   "cell_type": "code",
   "execution_count": 30,
   "metadata": {},
   "outputs": [
    {
     "data": {
      "text/plain": [
       "data_block_id\n",
       "453    69\n",
       "436    69\n",
       "438    69\n",
       "439    69\n",
       "440    69\n",
       "       ..\n",
       "28     61\n",
       "29     61\n",
       "30     61\n",
       "31     61\n",
       "2      61\n",
       "Name: count, Length: 636, dtype: int64"
      ]
     },
     "execution_count": 30,
     "metadata": {},
     "output_type": "execute_result"
    }
   ],
   "source": [
    "df_client.data_block_id.value_counts()"
   ]
  },
  {
   "cell_type": "code",
   "execution_count": null,
   "metadata": {},
   "outputs": [],
   "source": [
    "for col in df_client.columns:\n",
    "    print(col, df_client[col].value_counts())"
   ]
  },
  {
   "cell_type": "code",
   "execution_count": 8,
   "metadata": {},
   "outputs": [
    {
     "data": {
      "text/plain": [
       "product_type            int64\n",
       "county                  int64\n",
       "eic_count               int64\n",
       "installed_capacity    float64\n",
       "is_business             int64\n",
       "date                   object\n",
       "data_block_id           int64\n",
       "dtype: object"
      ]
     },
     "execution_count": 8,
     "metadata": {},
     "output_type": "execute_result"
    }
   ],
   "source": [
    "df_client.dtypes"
   ]
  },
  {
   "cell_type": "markdown",
   "metadata": {},
   "source": [
    "#### Add CountyName to df_client"
   ]
  },
  {
   "cell_type": "code",
   "execution_count": 5,
   "metadata": {},
   "outputs": [
    {
     "name": "stdout",
     "output_type": "stream",
     "text": [
      "{'0': 'HARJUMAA', '1': 'HIIUMAA', '2': 'IDA-VIRUMAA', '3': 'JÄRVAMAA', '4': 'JÕGEVAMAA', '5': 'LÄÄNE-VIRUMAA', '6': 'LÄÄNEMAA', '7': 'PÄRNUMAA', '8': 'PÕLVAMAA', '9': 'RAPLAMAA', '10': 'SAAREMAA', '11': 'TARTUMAA', '12': 'UNKNOWN', '13': 'VALGAMAA', '14': 'VILJANDIMAA', '15': 'VÕRUMAA'}\n"
     ]
    }
   ],
   "source": [
    "# Read the JSON file\n",
    "with open('data\\county_id_to_name_map.json','r') as file:\n",
    "    # Load the JSON data into a Python dictionary\n",
    "    countyname = json.load(file)\n",
    "\n",
    "# Print the resulting dictionary\n",
    "print(countyname)"
   ]
  },
  {
   "cell_type": "code",
   "execution_count": 6,
   "metadata": {},
   "outputs": [],
   "source": [
    "# Convert the 'county' column to strings to ensure matching with dictionary keys\n",
    "df_client['county'] = df_client['county'].astype(str)\n",
    "\n",
    "# Create a new column \"county_name\" by mapping values from the dictionary\n",
    "df_client['county_name'] = df_client['county'].map(countyname)"
   ]
  },
  {
   "cell_type": "code",
   "execution_count": 14,
   "metadata": {},
   "outputs": [
    {
     "data": {
      "text/plain": [
       "Index(['product_type', 'county', 'eic_count', 'installed_capacity',\n",
       "       'is_business', 'date', 'data_block_id', 'county_name'],\n",
       "      dtype='object')"
      ]
     },
     "execution_count": 14,
     "metadata": {},
     "output_type": "execute_result"
    }
   ],
   "source": [
    "df_client.columns"
   ]
  },
  {
   "cell_type": "markdown",
   "metadata": {},
   "source": [
    "#### Exploratory Statistics about df_client"
   ]
  },
  {
   "cell_type": "markdown",
   "metadata": {},
   "source": [
    "#### Plots of Product Types, Country Count, Is_Business, EIC Count vs. Density, Installed Capacity vs. Density"
   ]
  },
  {
   "cell_type": "code",
   "execution_count": 23,
   "metadata": {},
   "outputs": [
    {
     "data": {
      "image/png": "[encoded data removed]",
      "text/plain": [
       "<Figure size 640x480 with 1 Axes>"
      ]
     },
     "metadata": {},
     "output_type": "display_data"
    },
    {
     "data": {
      "image/png": "[encoded data removed]",
      "text/plain": [
       "<Figure size 640x480 with 1 Axes>"
      ]
     },
     "metadata": {},
     "output_type": "display_data"
    },
    {
     "data": {
      "image/png": "[encoded data removed]",
      "text/plain": [
       "<Figure size 640x480 with 1 Axes>"
      ]
     },
     "metadata": {},
     "output_type": "display_data"
    },
    {
     "data": {
      "image/png": "[encoded data removed]",
      "text/plain": [
       "<Figure size 640x480 with 1 Axes>"
      ]
     },
     "metadata": {},
     "output_type": "display_data"
    },
    {
     "data": {
      "image/png": "[encoded data removed]",
      "text/plain": [
       "<Figure size 640x480 with 1 Axes>"
      ]
     },
     "metadata": {},
     "output_type": "display_data"
    },
    {
     "data": {
      "image/png": "[encoded data removed]",
      "text/plain": [
       "<Figure size 640x480 with 1 Axes>"
      ]
     },
     "metadata": {},
     "output_type": "display_data"
    }
   ],
   "source": [
    "countcols = ['product_type', 'county', 'is_business', 'data_block_id']\n",
    "distcols =  ['eic_count', 'installed_capacity']\n",
    "\n",
    "for col in df_client[countcols]:\n",
    "    sns.countplot(df_client[col])\n",
    "    plt.show()\n",
    "for col2 in df_client[distcols]:\n",
    "    sns.distplot(df_client[col2])\n",
    "    plt.show()"
   ]
  },
  {
   "cell_type": "code",
   "execution_count": 25,
   "metadata": {},
   "outputs": [
    {
     "name": "stdout",
     "output_type": "stream",
     "text": [
      "5 1517\n"
     ]
    }
   ],
   "source": [
    "print(df_client['eic_count'].min(), df_client['eic_count'].max())\n",
    "print(df_client['eic_count'].value_counts())"
   ]
  },
  {
   "cell_type": "markdown",
   "metadata": {},
   "source": [
    "### Analyze Train Data (df_train.csv)"
   ]
  },
  {
   "cell_type": "markdown",
   "metadata": {},
   "source": [
    "- county - An ID code for the county.\n",
    "- is_business - Boolean for whether or not the prosumer is a business.\n",
    "- product_type - ID code with the following mapping of codes to contract types: {0: \"Combined\", 1: \"Fixed\", 2: \"General service\", 3: \"Spot\"}.\n",
    "- TARGET - The consumption or production amount for the relevant segment for the hour. The segments are defined by the county, is_business, and product_type.\n",
    "- is_consumption - Boolean for whether or not this row's target is consumption or production.\n",
    "- datetime - The Estonian time in EET (UTC+2) / EEST (UTC+3). It describes the START of the 1-hour period on which target is given.\n",
    "- data_block_id - All rows sharing the same data_block_id will be available at the SAME FORECAST TIME. This is a function of what information is available when forecasts are actually made, at 11 AM EACH MORNING. For example, if the forecast weather data_block_id for predictins made on October 31st is 100 then the historic weather data_block_id for October 31st will be 101 as the historic weather data is only actually available the next day.\n",
    "- row_id - A unique identifier for the row.\n",
    "- prediction_unit_id - A unique identifier for the county, is_business, and product_type combination. New prediction units can appear or disappear in the test set."
   ]
  },
  {
   "cell_type": "code",
   "execution_count": 26,
   "metadata": {},
   "outputs": [
    {
     "data": {
      "text/html": [
       "<div>\n",
       "<style scoped>\n",
       "    .dataframe tbody tr th:only-of-type {\n",
       "        vertical-align: middle;\n",
       "    }\n",
       "\n",
       "    .dataframe tbody tr th {\n",
       "        vertical-align: top;\n",
       "    }\n",
       "\n",
       "    .dataframe thead th {\n",
       "        text-align: right;\n",
       "    }\n",
       "</style>\n",
       "<table border=\"1\" class=\"dataframe\">\n",
       "  <thead>\n",
       "    <tr style=\"text-align: right;\">\n",
       "      <th></th>\n",
       "      <th>county</th>\n",
       "      <th>is_business</th>\n",
       "      <th>product_type</th>\n",
       "      <th>target</th>\n",
       "      <th>is_consumption</th>\n",
       "      <th>datetime</th>\n",
       "      <th>data_block_id</th>\n",
       "      <th>row_id</th>\n",
       "      <th>prediction_unit_id</th>\n",
       "    </tr>\n",
       "  </thead>\n",
       "  <tbody>\n",
       "    <tr>\n",
       "      <th>0</th>\n",
       "      <td>0</td>\n",
       "      <td>0</td>\n",
       "      <td>1</td>\n",
       "      <td>0.713</td>\n",
       "      <td>0</td>\n",
       "      <td>2021-09-01 00:00:00</td>\n",
       "      <td>0</td>\n",
       "      <td>0</td>\n",
       "      <td>0</td>\n",
       "    </tr>\n",
       "    <tr>\n",
       "      <th>1</th>\n",
       "      <td>0</td>\n",
       "      <td>0</td>\n",
       "      <td>1</td>\n",
       "      <td>96.59</td>\n",
       "      <td>1</td>\n",
       "      <td>2021-09-01 00:00:00</td>\n",
       "      <td>0</td>\n",
       "      <td>1</td>\n",
       "      <td>0</td>\n",
       "    </tr>\n",
       "    <tr>\n",
       "      <th>2</th>\n",
       "      <td>0</td>\n",
       "      <td>0</td>\n",
       "      <td>2</td>\n",
       "      <td>0.0</td>\n",
       "      <td>0</td>\n",
       "      <td>2021-09-01 00:00:00</td>\n",
       "      <td>0</td>\n",
       "      <td>2</td>\n",
       "      <td>1</td>\n",
       "    </tr>\n",
       "    <tr>\n",
       "      <th>3</th>\n",
       "      <td>0</td>\n",
       "      <td>0</td>\n",
       "      <td>2</td>\n",
       "      <td>17.314</td>\n",
       "      <td>1</td>\n",
       "      <td>2021-09-01 00:00:00</td>\n",
       "      <td>0</td>\n",
       "      <td>3</td>\n",
       "      <td>1</td>\n",
       "    </tr>\n",
       "    <tr>\n",
       "      <th>4</th>\n",
       "      <td>0</td>\n",
       "      <td>0</td>\n",
       "      <td>3</td>\n",
       "      <td>2.904</td>\n",
       "      <td>0</td>\n",
       "      <td>2021-09-01 00:00:00</td>\n",
       "      <td>0</td>\n",
       "      <td>4</td>\n",
       "      <td>2</td>\n",
       "    </tr>\n",
       "  </tbody>\n",
       "</table>\n",
       "</div>"
      ],
      "text/plain": [
       "   county  is_business  product_type  target  is_consumption  \\\n",
       "0       0            0             1   0.713               0   \n",
       "1       0            0             1   96.59               1   \n",
       "2       0            0             2     0.0               0   \n",
       "3       0            0             2  17.314               1   \n",
       "4       0            0             3   2.904               0   \n",
       "\n",
       "              datetime  data_block_id  row_id  prediction_unit_id  \n",
       "0  2021-09-01 00:00:00              0       0                   0  \n",
       "1  2021-09-01 00:00:00              0       1                   0  \n",
       "2  2021-09-01 00:00:00              0       2                   1  \n",
       "3  2021-09-01 00:00:00              0       3                   1  \n",
       "4  2021-09-01 00:00:00              0       4                   2  "
      ]
     },
     "execution_count": 26,
     "metadata": {},
     "output_type": "execute_result"
    }
   ],
   "source": [
    "# Load data from the csv file\n",
    "\n",
    "df_train = pd.read_csv('data/train.csv', keep_default_na=False)\n",
    "# client.columns = df_train.columns.str.lower()\n",
    "\n",
    "pd.set_option('display.max_columns', 81)\n",
    "df_train.head(5)"
   ]
  },
  {
   "cell_type": "code",
   "execution_count": 29,
   "metadata": {},
   "outputs": [
    {
     "data": {
      "text/plain": [
       "county                 int64\n",
       "is_business            int64\n",
       "product_type           int64\n",
       "target                object\n",
       "is_consumption         int64\n",
       "datetime              object\n",
       "data_block_id          int64\n",
       "row_id                 int64\n",
       "prediction_unit_id     int64\n",
       "dtype: object"
      ]
     },
     "execution_count": 29,
     "metadata": {},
     "output_type": "execute_result"
    }
   ],
   "source": [
    "df_train.dtypes"
   ]
  },
  {
   "cell_type": "markdown",
   "metadata": {},
   "source": [
    "#### Convert target column to float and remove empty string values"
   ]
  },
  {
   "cell_type": "code",
   "execution_count": 38,
   "metadata": {},
   "outputs": [
    {
     "name": "stdout",
     "output_type": "stream",
     "text": [
      "Number of rows with empty string in 'target' column: 528\n"
     ]
    }
   ],
   "source": [
    "value_counts = df_train['target'].value_counts()\n",
    "\n",
    "# Check how many rows have an empty string\n",
    "empty_string_count = value_counts['']\n",
    "\n",
    "print(f\"Number of rows with empty string in 'target' column: {empty_string_count}\")"
   ]
  },
  {
   "cell_type": "code",
   "execution_count": 40,
   "metadata": {},
   "outputs": [
    {
     "name": "stdout",
     "output_type": "stream",
     "text": [
      "county                  int64\n",
      "is_business             int64\n",
      "product_type            int64\n",
      "target                float64\n",
      "is_consumption          int64\n",
      "datetime               object\n",
      "data_block_id           int64\n",
      "row_id                  int64\n",
      "prediction_unit_id      int64\n",
      "dtype: object\n"
     ]
    }
   ],
   "source": [
    "# Replace empty strings with NaN\n",
    "df_train['target'] = df_train['target'].replace('', np.nan).astype(float)\n",
    "\n",
    "# Check the data types after conversion\n",
    "print(df_train.dtypes)"
   ]
  },
  {
   "cell_type": "code",
   "execution_count": null,
   "metadata": {},
   "outputs": [],
   "source": [
    "value_counts = df_train['datetime'].value_counts()\n",
    "\n",
    "# Check how many rows have an empty string\n",
    "empty_string_count = value_counts['']\n",
    "\n",
    "print(f\"Number of rows with empty string in 'datetime' column: {empty_string_count}\")"
   ]
  },
  {
   "cell_type": "markdown",
   "metadata": {},
   "source": [
    "#### Set datetime column to datetime"
   ]
  },
  {
   "cell_type": "code",
   "execution_count": 49,
   "metadata": {},
   "outputs": [
    {
     "name": "stdout",
     "output_type": "stream",
     "text": [
      "county                         int64\n",
      "is_business                    int64\n",
      "product_type                   int64\n",
      "target                       float64\n",
      "is_consumption                 int64\n",
      "datetime              datetime64[ns]\n",
      "data_block_id                  int64\n",
      "row_id                         int64\n",
      "prediction_unit_id             int64\n",
      "dtype: object\n"
     ]
    }
   ],
   "source": [
    "import pandas as pd\n",
    "\n",
    "# Assuming df_train is your DataFrame\n",
    "# Replace 'datetime_column' with the actual column name if different\n",
    "df_train['datetime'] = pd.to_datetime(df_train['datetime'], errors='coerce')\n",
    "\n",
    "# Check the data types after conversion\n",
    "print(df_train.dtypes)\n"
   ]
  },
  {
   "cell_type": "code",
   "execution_count": 46,
   "metadata": {},
   "outputs": [
    {
     "data": {
      "text/html": [
       "<div>\n",
       "<style scoped>\n",
       "    .dataframe tbody tr th:only-of-type {\n",
       "        vertical-align: middle;\n",
       "    }\n",
       "\n",
       "    .dataframe tbody tr th {\n",
       "        vertical-align: top;\n",
       "    }\n",
       "\n",
       "    .dataframe thead th {\n",
       "        text-align: right;\n",
       "    }\n",
       "</style>\n",
       "<table border=\"1\" class=\"dataframe\">\n",
       "  <thead>\n",
       "    <tr style=\"text-align: right;\">\n",
       "      <th></th>\n",
       "      <th>county</th>\n",
       "      <th>is_business</th>\n",
       "      <th>product_type</th>\n",
       "      <th>target</th>\n",
       "      <th>is_consumption</th>\n",
       "      <th>datetime</th>\n",
       "      <th>data_block_id</th>\n",
       "      <th>row_id</th>\n",
       "      <th>prediction_unit_id</th>\n",
       "    </tr>\n",
       "  </thead>\n",
       "  <tbody>\n",
       "    <tr>\n",
       "      <th>0</th>\n",
       "      <td>0</td>\n",
       "      <td>0</td>\n",
       "      <td>1</td>\n",
       "      <td>0.713</td>\n",
       "      <td>0</td>\n",
       "      <td>2021-09-01 00:00:00</td>\n",
       "      <td>0</td>\n",
       "      <td>0</td>\n",
       "      <td>0</td>\n",
       "    </tr>\n",
       "    <tr>\n",
       "      <th>1</th>\n",
       "      <td>0</td>\n",
       "      <td>0</td>\n",
       "      <td>1</td>\n",
       "      <td>96.590</td>\n",
       "      <td>1</td>\n",
       "      <td>2021-09-01 00:00:00</td>\n",
       "      <td>0</td>\n",
       "      <td>1</td>\n",
       "      <td>0</td>\n",
       "    </tr>\n",
       "    <tr>\n",
       "      <th>2</th>\n",
       "      <td>0</td>\n",
       "      <td>0</td>\n",
       "      <td>2</td>\n",
       "      <td>0.000</td>\n",
       "      <td>0</td>\n",
       "      <td>2021-09-01 00:00:00</td>\n",
       "      <td>0</td>\n",
       "      <td>2</td>\n",
       "      <td>1</td>\n",
       "    </tr>\n",
       "    <tr>\n",
       "      <th>3</th>\n",
       "      <td>0</td>\n",
       "      <td>0</td>\n",
       "      <td>2</td>\n",
       "      <td>17.314</td>\n",
       "      <td>1</td>\n",
       "      <td>2021-09-01 00:00:00</td>\n",
       "      <td>0</td>\n",
       "      <td>3</td>\n",
       "      <td>1</td>\n",
       "    </tr>\n",
       "    <tr>\n",
       "      <th>4</th>\n",
       "      <td>0</td>\n",
       "      <td>0</td>\n",
       "      <td>3</td>\n",
       "      <td>2.904</td>\n",
       "      <td>0</td>\n",
       "      <td>2021-09-01 00:00:00</td>\n",
       "      <td>0</td>\n",
       "      <td>4</td>\n",
       "      <td>2</td>\n",
       "    </tr>\n",
       "  </tbody>\n",
       "</table>\n",
       "</div>"
      ],
      "text/plain": [
       "   county  is_business  product_type  target  is_consumption  \\\n",
       "0       0            0             1   0.713               0   \n",
       "1       0            0             1  96.590               1   \n",
       "2       0            0             2   0.000               0   \n",
       "3       0            0             2  17.314               1   \n",
       "4       0            0             3   2.904               0   \n",
       "\n",
       "              datetime  data_block_id  row_id  prediction_unit_id  \n",
       "0  2021-09-01 00:00:00              0       0                   0  \n",
       "1  2021-09-01 00:00:00              0       1                   0  \n",
       "2  2021-09-01 00:00:00              0       2                   1  \n",
       "3  2021-09-01 00:00:00              0       3                   1  \n",
       "4  2021-09-01 00:00:00              0       4                   2  "
      ]
     },
     "execution_count": 46,
     "metadata": {},
     "output_type": "execute_result"
    }
   ],
   "source": [
    "df_train.head()"
   ]
  },
  {
   "cell_type": "markdown",
   "metadata": {},
   "source": [
    "#### Statistical Plots"
   ]
  },
  {
   "cell_type": "code",
   "execution_count": 45,
   "metadata": {},
   "outputs": [
    {
     "data": {
      "image/png": "[encoded data removed]",
      "text/plain": [
       "<Figure size 640x480 with 1 Axes>"
      ]
     },
     "metadata": {},
     "output_type": "display_data"
    },
    {
     "data": {
      "image/png": "[encoded data removed]",
      "text/plain": [
       "<Figure size 640x480 with 1 Axes>"
      ]
     },
     "metadata": {},
     "output_type": "display_data"
    },
    {
     "data": {
      "image/png": "[encoded data removed]",
      "text/plain": [
       "<Figure size 640x480 with 1 Axes>"
      ]
     },
     "metadata": {},
     "output_type": "display_data"
    },
    {
     "data": {
      "image/png": "[encoded data removed]",
      "text/plain": [
       "<Figure size 640x480 with 1 Axes>"
      ]
     },
     "metadata": {},
     "output_type": "display_data"
    },
    {
     "data": {
      "image/png": "[encoded data removed]",
      "text/plain": [
       "<Figure size 640x480 with 1 Axes>"
      ]
     },
     "metadata": {},
     "output_type": "display_data"
    },
    {
     "data": {
      "image/png": "[encoded data removed]",
      "text/plain": [
       "<Figure size 640x480 with 1 Axes>"
      ]
     },
     "metadata": {},
     "output_type": "display_data"
    },
    {
     "data": {
      "image/png": "[encoded data removed]",
      "text/plain": [
       "<Figure size 640x480 with 1 Axes>"
      ]
     },
     "metadata": {},
     "output_type": "display_data"
    }
   ],
   "source": [
    "counttraincols = ['product_type', 'county', 'is_business','is_consumption']\n",
    "disttraincols =  ['target','prediction_unit_id','data_block_id']\n",
    "\n",
    "for col in df_train[counttraincols]:\n",
    "    sns.countplot(df_train[col])\n",
    "    plt.show()\n",
    "for col2 in df_train[disttraincols]:\n",
    "    sns.distplot(df_train[col2], kde=False, hist=True)\n",
    "    plt.show()"
   ]
  },
  {
   "cell_type": "code",
   "execution_count": 34,
   "metadata": {},
   "outputs": [
    {
     "name": "stdout",
     "output_type": "stream",
     "text": [
      "county county\n",
      "0     212928\n",
      "11    198000\n",
      "7     173088\n",
      "5     151632\n",
      "15    148752\n",
      "4     147264\n",
      "10    134640\n",
      "14    125808\n",
      "3     122496\n",
      "9     122496\n",
      "13    121056\n",
      "2     115200\n",
      "1      91872\n",
      "8      91872\n",
      "6      30624\n",
      "12     30624\n",
      "Name: count, dtype: int64\n",
      "is_business is_business\n",
      "1    1083504\n",
      "0     934848\n",
      "Name: count, dtype: int64\n",
      "product_type product_type\n",
      "3    918720\n",
      "1    781632\n",
      "0    170544\n",
      "2    147456\n",
      "Name: count, dtype: int64\n",
      "target target\n",
      "0.0         305637\n",
      "0.0          45859\n",
      "0.001         9634\n",
      "0.003         5650\n",
      "0.002         4747\n",
      "             ...  \n",
      "378.357          1\n",
      "353.392          1\n",
      "2847.361         1\n",
      "347.106          1\n",
      "197.233          1\n",
      "Name: count, Length: 658150, dtype: int64\n",
      "is_consumption is_consumption\n",
      "0    1009176\n",
      "1    1009176\n",
      "Name: count, dtype: int64\n",
      "datetime datetime\n",
      "2022-11-27 12:00:00    138\n",
      "2022-11-17 03:00:00    138\n",
      "2022-11-16 14:00:00    138\n",
      "2022-11-16 15:00:00    138\n",
      "2022-11-16 16:00:00    138\n",
      "                      ... \n",
      "2021-09-20 23:00:00    122\n",
      "2021-09-20 22:00:00    122\n",
      "2021-09-20 21:00:00    122\n",
      "2021-09-20 20:00:00    122\n",
      "2021-09-01 00:00:00    122\n",
      "Name: count, Length: 15312, dtype: int64\n",
      "data_block_id data_block_id\n",
      "452    3312\n",
      "450    3312\n",
      "436    3312\n",
      "437    3312\n",
      "438    3312\n",
      "       ... \n",
      "26     2928\n",
      "27     2928\n",
      "28     2928\n",
      "29     2928\n",
      "0      2928\n",
      "Name: count, Length: 638, dtype: int64\n",
      "row_id row_id\n",
      "0          1\n",
      "1345578    1\n",
      "1345576    1\n",
      "1345575    1\n",
      "1345574    1\n",
      "          ..\n",
      "672779     1\n",
      "672778     1\n",
      "672777     1\n",
      "672776     1\n",
      "2018351    1\n",
      "Name: count, Length: 2018352, dtype: int64\n",
      "prediction_unit_id prediction_unit_id\n",
      "0     30624\n",
      "46    30624\n",
      "32    30624\n",
      "33    30624\n",
      "1     30624\n",
      "      ...  \n",
      "47    24000\n",
      "67    23280\n",
      "26    19968\n",
      "41    12144\n",
      "68     3312\n",
      "Name: count, Length: 69, dtype: int64\n"
     ]
    }
   ],
   "source": [
    "for col in df_train.columns:\n",
    "    print(col, df_train[col].value_counts())"
   ]
  },
  {
   "cell_type": "markdown",
   "metadata": {},
   "source": [
    "### Analyze Weather Forecast (df_forecast.csv)"
   ]
  },
  {
   "cell_type": "code",
   "execution_count": 50,
   "metadata": {},
   "outputs": [
    {
     "data": {
      "text/html": [
       "<div>\n",
       "<style scoped>\n",
       "    .dataframe tbody tr th:only-of-type {\n",
       "        vertical-align: middle;\n",
       "    }\n",
       "\n",
       "    .dataframe tbody tr th {\n",
       "        vertical-align: top;\n",
       "    }\n",
       "\n",
       "    .dataframe thead th {\n",
       "        text-align: right;\n",
       "    }\n",
       "</style>\n",
       "<table border=\"1\" class=\"dataframe\">\n",
       "  <thead>\n",
       "    <tr style=\"text-align: right;\">\n",
       "      <th></th>\n",
       "      <th>latitude</th>\n",
       "      <th>longitude</th>\n",
       "      <th>origin_datetime</th>\n",
       "      <th>hours_ahead</th>\n",
       "      <th>temperature</th>\n",
       "      <th>dewpoint</th>\n",
       "      <th>cloudcover_high</th>\n",
       "      <th>cloudcover_low</th>\n",
       "      <th>cloudcover_mid</th>\n",
       "      <th>cloudcover_total</th>\n",
       "      <th>10_metre_u_wind_component</th>\n",
       "      <th>10_metre_v_wind_component</th>\n",
       "      <th>data_block_id</th>\n",
       "      <th>forecast_datetime</th>\n",
       "      <th>direct_solar_radiation</th>\n",
       "      <th>surface_solar_radiation_downwards</th>\n",
       "      <th>snowfall</th>\n",
       "      <th>total_precipitation</th>\n",
       "    </tr>\n",
       "  </thead>\n",
       "  <tbody>\n",
       "    <tr>\n",
       "      <th>3424507</th>\n",
       "      <td>59.7</td>\n",
       "      <td>26.2</td>\n",
       "      <td>2023-05-30 02:00:00</td>\n",
       "      <td>48</td>\n",
       "      <td>10.150049</td>\n",
       "      <td>5.662744</td>\n",
       "      <td>0.061066</td>\n",
       "      <td>0.257339</td>\n",
       "      <td>0.004059</td>\n",
       "      <td>0.308594</td>\n",
       "      <td>6.890626</td>\n",
       "      <td>-3.258144</td>\n",
       "      <td>637</td>\n",
       "      <td>2023-06-01 02:00:00</td>\n",
       "      <td>0.0</td>\n",
       "      <td>0.0</td>\n",
       "      <td>0.0</td>\n",
       "      <td>0.0</td>\n",
       "    </tr>\n",
       "    <tr>\n",
       "      <th>3424508</th>\n",
       "      <td>59.7</td>\n",
       "      <td>26.7</td>\n",
       "      <td>2023-05-30 02:00:00</td>\n",
       "      <td>48</td>\n",
       "      <td>10.259790</td>\n",
       "      <td>5.922754</td>\n",
       "      <td>0.107880</td>\n",
       "      <td>0.895203</td>\n",
       "      <td>0.198700</td>\n",
       "      <td>0.906036</td>\n",
       "      <td>6.890626</td>\n",
       "      <td>-3.768032</td>\n",
       "      <td>637</td>\n",
       "      <td>2023-06-01 02:00:00</td>\n",
       "      <td>0.0</td>\n",
       "      <td>0.0</td>\n",
       "      <td>0.0</td>\n",
       "      <td>0.0</td>\n",
       "    </tr>\n",
       "    <tr>\n",
       "      <th>3424509</th>\n",
       "      <td>59.7</td>\n",
       "      <td>27.2</td>\n",
       "      <td>2023-05-30 02:00:00</td>\n",
       "      <td>48</td>\n",
       "      <td>10.467798</td>\n",
       "      <td>6.072534</td>\n",
       "      <td>0.000000</td>\n",
       "      <td>0.387466</td>\n",
       "      <td>0.448853</td>\n",
       "      <td>0.530518</td>\n",
       "      <td>6.214112</td>\n",
       "      <td>-4.700405</td>\n",
       "      <td>637</td>\n",
       "      <td>2023-06-01 02:00:00</td>\n",
       "      <td>0.0</td>\n",
       "      <td>0.0</td>\n",
       "      <td>0.0</td>\n",
       "      <td>0.0</td>\n",
       "    </tr>\n",
       "    <tr>\n",
       "      <th>3424510</th>\n",
       "      <td>59.7</td>\n",
       "      <td>27.7</td>\n",
       "      <td>2023-05-30 02:00:00</td>\n",
       "      <td>48</td>\n",
       "      <td>10.694116</td>\n",
       "      <td>7.009058</td>\n",
       "      <td>0.000000</td>\n",
       "      <td>0.505936</td>\n",
       "      <td>0.997314</td>\n",
       "      <td>0.997498</td>\n",
       "      <td>5.810060</td>\n",
       "      <td>-4.338345</td>\n",
       "      <td>637</td>\n",
       "      <td>2023-06-01 02:00:00</td>\n",
       "      <td>0.0</td>\n",
       "      <td>0.0</td>\n",
       "      <td>0.0</td>\n",
       "      <td>0.0</td>\n",
       "    </tr>\n",
       "    <tr>\n",
       "      <th>3424511</th>\n",
       "      <td>59.7</td>\n",
       "      <td>28.2</td>\n",
       "      <td>2023-05-30 02:00:00</td>\n",
       "      <td>48</td>\n",
       "      <td>11.233179</td>\n",
       "      <td>7.069238</td>\n",
       "      <td>0.703461</td>\n",
       "      <td>0.292313</td>\n",
       "      <td>0.934021</td>\n",
       "      <td>0.989716</td>\n",
       "      <td>2.719728</td>\n",
       "      <td>-0.922939</td>\n",
       "      <td>637</td>\n",
       "      <td>2023-06-01 02:00:00</td>\n",
       "      <td>0.0</td>\n",
       "      <td>0.0</td>\n",
       "      <td>0.0</td>\n",
       "      <td>0.0</td>\n",
       "    </tr>\n",
       "  </tbody>\n",
       "</table>\n",
       "</div>"
      ],
      "text/plain": [
       "         latitude  longitude      origin_datetime  hours_ahead  temperature  \\\n",
       "3424507      59.7       26.2  2023-05-30 02:00:00           48    10.150049   \n",
       "3424508      59.7       26.7  2023-05-30 02:00:00           48    10.259790   \n",
       "3424509      59.7       27.2  2023-05-30 02:00:00           48    10.467798   \n",
       "3424510      59.7       27.7  2023-05-30 02:00:00           48    10.694116   \n",
       "3424511      59.7       28.2  2023-05-30 02:00:00           48    11.233179   \n",
       "\n",
       "         dewpoint  cloudcover_high  cloudcover_low  cloudcover_mid  \\\n",
       "3424507  5.662744         0.061066        0.257339        0.004059   \n",
       "3424508  5.922754         0.107880        0.895203        0.198700   \n",
       "3424509  6.072534         0.000000        0.387466        0.448853   \n",
       "3424510  7.009058         0.000000        0.505936        0.997314   \n",
       "3424511  7.069238         0.703461        0.292313        0.934021   \n",
       "\n",
       "         cloudcover_total  10_metre_u_wind_component  \\\n",
       "3424507          0.308594                   6.890626   \n",
       "3424508          0.906036                   6.890626   \n",
       "3424509          0.530518                   6.214112   \n",
       "3424510          0.997498                   5.810060   \n",
       "3424511          0.989716                   2.719728   \n",
       "\n",
       "         10_metre_v_wind_component  data_block_id    forecast_datetime  \\\n",
       "3424507                  -3.258144            637  2023-06-01 02:00:00   \n",
       "3424508                  -3.768032            637  2023-06-01 02:00:00   \n",
       "3424509                  -4.700405            637  2023-06-01 02:00:00   \n",
       "3424510                  -4.338345            637  2023-06-01 02:00:00   \n",
       "3424511                  -0.922939            637  2023-06-01 02:00:00   \n",
       "\n",
       "         direct_solar_radiation surface_solar_radiation_downwards  snowfall  \\\n",
       "3424507                     0.0                               0.0       0.0   \n",
       "3424508                     0.0                               0.0       0.0   \n",
       "3424509                     0.0                               0.0       0.0   \n",
       "3424510                     0.0                               0.0       0.0   \n",
       "3424511                     0.0                               0.0       0.0   \n",
       "\n",
       "         total_precipitation  \n",
       "3424507                  0.0  \n",
       "3424508                  0.0  \n",
       "3424509                  0.0  \n",
       "3424510                  0.0  \n",
       "3424511                  0.0  "
      ]
     },
     "execution_count": 50,
     "metadata": {},
     "output_type": "execute_result"
    }
   ],
   "source": [
    "# Load data from the csv file\n",
    "\n",
    "df_forecast = pd.read_csv('data/forecast_weather.csv', keep_default_na=False)\n",
    "# client.columns = df_train.columns.str.lower()\n",
    "\n",
    "pd.set_option('display.max_columns', 81)\n",
    "df_forecast.tail(5)"
   ]
  },
  {
   "cell_type": "code",
   "execution_count": 88,
   "metadata": {},
   "outputs": [
    {
     "data": {
      "text/plain": [
       "Index(['origin_datetime', 'forecast_datetime', 'hours_ahead', 'latitude',\n",
       "       'longitude', 'data_block_id', 'temperature', 'dewpoint',\n",
       "       'cloudcover_high', 'cloudcover_low', 'cloudcover_mid',\n",
       "       'cloudcover_total', '10_metre_u_wind_component',\n",
       "       '10_metre_v_wind_component', 'direct_solar_radiation',\n",
       "       'surface_solar_radiation_downwards', 'snowfall', 'total_precipitation',\n",
       "       'origin_date', 'origin_time'],\n",
       "      dtype='object')"
      ]
     },
     "execution_count": 88,
     "metadata": {},
     "output_type": "execute_result"
    }
   ],
   "source": [
    "df_forecast.columns"
   ]
  },
  {
   "cell_type": "markdown",
   "metadata": {},
   "source": [
    "#### 1. change column order of df_forecast"
   ]
  },
  {
   "cell_type": "code",
   "execution_count": 89,
   "metadata": {},
   "outputs": [
    {
     "data": {
      "text/html": [
       "<div>\n",
       "<style scoped>\n",
       "    .dataframe tbody tr th:only-of-type {\n",
       "        vertical-align: middle;\n",
       "    }\n",
       "\n",
       "    .dataframe tbody tr th {\n",
       "        vertical-align: top;\n",
       "    }\n",
       "\n",
       "    .dataframe thead th {\n",
       "        text-align: right;\n",
       "    }\n",
       "</style>\n",
       "<table border=\"1\" class=\"dataframe\">\n",
       "  <thead>\n",
       "    <tr style=\"text-align: right;\">\n",
       "      <th></th>\n",
       "      <th>origin_datetime</th>\n",
       "      <th>forecast_datetime</th>\n",
       "      <th>origin_date</th>\n",
       "      <th>origin_time</th>\n",
       "      <th>hours_ahead</th>\n",
       "      <th>latitude</th>\n",
       "      <th>longitude</th>\n",
       "      <th>data_block_id</th>\n",
       "      <th>temperature</th>\n",
       "      <th>dewpoint</th>\n",
       "      <th>cloudcover_high</th>\n",
       "      <th>cloudcover_low</th>\n",
       "      <th>cloudcover_mid</th>\n",
       "      <th>cloudcover_total</th>\n",
       "      <th>10_metre_u_wind_component</th>\n",
       "      <th>10_metre_v_wind_component</th>\n",
       "      <th>direct_solar_radiation</th>\n",
       "      <th>surface_solar_radiation_downwards</th>\n",
       "      <th>snowfall</th>\n",
       "      <th>total_precipitation</th>\n",
       "    </tr>\n",
       "  </thead>\n",
       "  <tbody>\n",
       "    <tr>\n",
       "      <th>0</th>\n",
       "      <td>2021-09-01 02:00:00</td>\n",
       "      <td>2021-09-01 03:00:00</td>\n",
       "      <td>2021-09-01</td>\n",
       "      <td>02:00:00</td>\n",
       "      <td>1</td>\n",
       "      <td>57.6</td>\n",
       "      <td>21.7</td>\n",
       "      <td>1</td>\n",
       "      <td>15.655786</td>\n",
       "      <td>11.553613</td>\n",
       "      <td>0.904816</td>\n",
       "      <td>0.019714</td>\n",
       "      <td>0.000000</td>\n",
       "      <td>0.905899</td>\n",
       "      <td>-0.411328</td>\n",
       "      <td>-9.106137</td>\n",
       "      <td>0.0</td>\n",
       "      <td>0.0</td>\n",
       "      <td>0.0</td>\n",
       "      <td>0.0</td>\n",
       "    </tr>\n",
       "    <tr>\n",
       "      <th>1</th>\n",
       "      <td>2021-09-01 02:00:00</td>\n",
       "      <td>2021-09-01 03:00:00</td>\n",
       "      <td>2021-09-01</td>\n",
       "      <td>02:00:00</td>\n",
       "      <td>1</td>\n",
       "      <td>57.6</td>\n",
       "      <td>22.2</td>\n",
       "      <td>1</td>\n",
       "      <td>13.003931</td>\n",
       "      <td>10.689844</td>\n",
       "      <td>0.886322</td>\n",
       "      <td>0.004456</td>\n",
       "      <td>0.000000</td>\n",
       "      <td>0.886658</td>\n",
       "      <td>0.206347</td>\n",
       "      <td>-5.355405</td>\n",
       "      <td>0.0</td>\n",
       "      <td>0.0</td>\n",
       "      <td>0.0</td>\n",
       "      <td>0.0</td>\n",
       "    </tr>\n",
       "    <tr>\n",
       "      <th>2</th>\n",
       "      <td>2021-09-01 02:00:00</td>\n",
       "      <td>2021-09-01 03:00:00</td>\n",
       "      <td>2021-09-01</td>\n",
       "      <td>02:00:00</td>\n",
       "      <td>1</td>\n",
       "      <td>57.6</td>\n",
       "      <td>22.7</td>\n",
       "      <td>1</td>\n",
       "      <td>14.206567</td>\n",
       "      <td>11.671777</td>\n",
       "      <td>0.729034</td>\n",
       "      <td>0.005615</td>\n",
       "      <td>0.000000</td>\n",
       "      <td>0.730499</td>\n",
       "      <td>1.451587</td>\n",
       "      <td>-7.417905</td>\n",
       "      <td>0.0</td>\n",
       "      <td>0.0</td>\n",
       "      <td>0.0</td>\n",
       "      <td>0.0</td>\n",
       "    </tr>\n",
       "    <tr>\n",
       "      <th>3</th>\n",
       "      <td>2021-09-01 02:00:00</td>\n",
       "      <td>2021-09-01 03:00:00</td>\n",
       "      <td>2021-09-01</td>\n",
       "      <td>02:00:00</td>\n",
       "      <td>1</td>\n",
       "      <td>57.6</td>\n",
       "      <td>23.2</td>\n",
       "      <td>1</td>\n",
       "      <td>14.844507</td>\n",
       "      <td>12.264917</td>\n",
       "      <td>0.336304</td>\n",
       "      <td>0.074341</td>\n",
       "      <td>0.000626</td>\n",
       "      <td>0.385468</td>\n",
       "      <td>1.090869</td>\n",
       "      <td>-9.163999</td>\n",
       "      <td>0.0</td>\n",
       "      <td>0.0</td>\n",
       "      <td>0.0</td>\n",
       "      <td>0.0</td>\n",
       "    </tr>\n",
       "    <tr>\n",
       "      <th>4</th>\n",
       "      <td>2021-09-01 02:00:00</td>\n",
       "      <td>2021-09-01 03:00:00</td>\n",
       "      <td>2021-09-01</td>\n",
       "      <td>02:00:00</td>\n",
       "      <td>1</td>\n",
       "      <td>57.6</td>\n",
       "      <td>23.7</td>\n",
       "      <td>1</td>\n",
       "      <td>15.293848</td>\n",
       "      <td>12.458887</td>\n",
       "      <td>0.102875</td>\n",
       "      <td>0.088074</td>\n",
       "      <td>0.000015</td>\n",
       "      <td>0.176590</td>\n",
       "      <td>1.268481</td>\n",
       "      <td>-8.975766</td>\n",
       "      <td>0.0</td>\n",
       "      <td>0.0</td>\n",
       "      <td>0.0</td>\n",
       "      <td>0.0</td>\n",
       "    </tr>\n",
       "  </tbody>\n",
       "</table>\n",
       "</div>"
      ],
      "text/plain": [
       "      origin_datetime   forecast_datetime origin_date origin_time  \\\n",
       "0 2021-09-01 02:00:00 2021-09-01 03:00:00  2021-09-01    02:00:00   \n",
       "1 2021-09-01 02:00:00 2021-09-01 03:00:00  2021-09-01    02:00:00   \n",
       "2 2021-09-01 02:00:00 2021-09-01 03:00:00  2021-09-01    02:00:00   \n",
       "3 2021-09-01 02:00:00 2021-09-01 03:00:00  2021-09-01    02:00:00   \n",
       "4 2021-09-01 02:00:00 2021-09-01 03:00:00  2021-09-01    02:00:00   \n",
       "\n",
       "   hours_ahead  latitude  longitude  data_block_id  temperature   dewpoint  \\\n",
       "0            1      57.6       21.7              1    15.655786  11.553613   \n",
       "1            1      57.6       22.2              1    13.003931  10.689844   \n",
       "2            1      57.6       22.7              1    14.206567  11.671777   \n",
       "3            1      57.6       23.2              1    14.844507  12.264917   \n",
       "4            1      57.6       23.7              1    15.293848  12.458887   \n",
       "\n",
       "   cloudcover_high  cloudcover_low  cloudcover_mid  cloudcover_total  \\\n",
       "0         0.904816        0.019714        0.000000          0.905899   \n",
       "1         0.886322        0.004456        0.000000          0.886658   \n",
       "2         0.729034        0.005615        0.000000          0.730499   \n",
       "3         0.336304        0.074341        0.000626          0.385468   \n",
       "4         0.102875        0.088074        0.000015          0.176590   \n",
       "\n",
       "   10_metre_u_wind_component  10_metre_v_wind_component  \\\n",
       "0                  -0.411328                  -9.106137   \n",
       "1                   0.206347                  -5.355405   \n",
       "2                   1.451587                  -7.417905   \n",
       "3                   1.090869                  -9.163999   \n",
       "4                   1.268481                  -8.975766   \n",
       "\n",
       "   direct_solar_radiation  surface_solar_radiation_downwards  snowfall  \\\n",
       "0                     0.0                                0.0       0.0   \n",
       "1                     0.0                                0.0       0.0   \n",
       "2                     0.0                                0.0       0.0   \n",
       "3                     0.0                                0.0       0.0   \n",
       "4                     0.0                                0.0       0.0   \n",
       "\n",
       "   total_precipitation  \n",
       "0                  0.0  \n",
       "1                  0.0  \n",
       "2                  0.0  \n",
       "3                  0.0  \n",
       "4                  0.0  "
      ]
     },
     "execution_count": 89,
     "metadata": {},
     "output_type": "execute_result"
    }
   ],
   "source": [
    "col_order = ['origin_datetime', 'forecast_datetime',\n",
    "       'origin_date', 'origin_time','hours_ahead', 'latitude', 'longitude', 'data_block_id','temperature', 'dewpoint', 'cloudcover_high', 'cloudcover_low',\n",
    "       'cloudcover_mid', 'cloudcover_total', '10_metre_u_wind_component','10_metre_v_wind_component', 'direct_solar_radiation', 'surface_solar_radiation_downwards',\n",
    "       'snowfall', 'total_precipitation']\n",
    "\n",
    "df_forecast = df_forecast[col_order]\n",
    "df_forecast.head()"
   ]
  },
  {
   "cell_type": "markdown",
   "metadata": {},
   "source": [
    "#### 2. create dataframe with unique gps combinations"
   ]
  },
  {
   "cell_type": "code",
   "execution_count": null,
   "metadata": {},
   "outputs": [],
   "source": [
    "count_per_location = df_forecast.groupby(['latitude', 'longitude']).size().reset_index(name='count')"
   ]
  },
  {
   "cell_type": "code",
   "execution_count": null,
   "metadata": {},
   "outputs": [],
   "source": [
    "pd.set_option('display.max_rows', 112)\n",
    "# Print the resulting DataFrame\n",
    "print(count_per_location)"
   ]
  },
  {
   "cell_type": "code",
   "execution_count": 107,
   "metadata": {},
   "outputs": [
    {
     "data": {
      "text/html": [
       "<div>\n",
       "<style scoped>\n",
       "    .dataframe tbody tr th:only-of-type {\n",
       "        vertical-align: middle;\n",
       "    }\n",
       "\n",
       "    .dataframe tbody tr th {\n",
       "        vertical-align: top;\n",
       "    }\n",
       "\n",
       "    .dataframe thead th {\n",
       "        text-align: right;\n",
       "    }\n",
       "</style>\n",
       "<table border=\"1\" class=\"dataframe\">\n",
       "  <thead>\n",
       "    <tr style=\"text-align: right;\">\n",
       "      <th></th>\n",
       "      <th>latitude</th>\n",
       "      <th>longitude</th>\n",
       "      <th>count</th>\n",
       "      <th>station</th>\n",
       "      <th>lat/long</th>\n",
       "      <th>county_code</th>\n",
       "      <th>county_name</th>\n",
       "    </tr>\n",
       "  </thead>\n",
       "  <tbody>\n",
       "    <tr>\n",
       "      <th>0</th>\n",
       "      <td>57.6</td>\n",
       "      <td>21.7</td>\n",
       "      <td>30576</td>\n",
       "      <td>station1</td>\n",
       "      <td>57.6,21.7</td>\n",
       "      <td>12</td>\n",
       "      <td>UNKNOWN</td>\n",
       "    </tr>\n",
       "    <tr>\n",
       "      <th>1</th>\n",
       "      <td>57.6</td>\n",
       "      <td>22.2</td>\n",
       "      <td>30576</td>\n",
       "      <td>station2</td>\n",
       "      <td>57.6,22.2</td>\n",
       "      <td>12</td>\n",
       "      <td>UNKNOWN</td>\n",
       "    </tr>\n",
       "    <tr>\n",
       "      <th>2</th>\n",
       "      <td>57.6</td>\n",
       "      <td>22.7</td>\n",
       "      <td>30576</td>\n",
       "      <td>station3</td>\n",
       "      <td>57.6,22.7</td>\n",
       "      <td>12</td>\n",
       "      <td>UNKNOWN</td>\n",
       "    </tr>\n",
       "    <tr>\n",
       "      <th>3</th>\n",
       "      <td>57.6</td>\n",
       "      <td>23.2</td>\n",
       "      <td>30576</td>\n",
       "      <td>station4</td>\n",
       "      <td>57.6,23.2</td>\n",
       "      <td>10</td>\n",
       "      <td>SAAREMAA</td>\n",
       "    </tr>\n",
       "    <tr>\n",
       "      <th>4</th>\n",
       "      <td>57.6</td>\n",
       "      <td>23.7</td>\n",
       "      <td>30576</td>\n",
       "      <td>station5</td>\n",
       "      <td>57.6,23.7</td>\n",
       "      <td>12</td>\n",
       "      <td>UNKNOWN</td>\n",
       "    </tr>\n",
       "  </tbody>\n",
       "</table>\n",
       "</div>"
      ],
      "text/plain": [
       "   latitude  longitude  count   station   lat/long county_code county_name\n",
       "0      57.6       21.7  30576  station1  57.6,21.7          12     UNKNOWN\n",
       "1      57.6       22.2  30576  station2  57.6,22.2          12     UNKNOWN\n",
       "2      57.6       22.7  30576  station3  57.6,22.7          12     UNKNOWN\n",
       "3      57.6       23.2  30576  station4  57.6,23.2          10    SAAREMAA\n",
       "4      57.6       23.7  30576  station5  57.6,23.7          12     UNKNOWN"
      ]
     },
     "execution_count": 107,
     "metadata": {},
     "output_type": "execute_result"
    }
   ],
   "source": [
    "count_per_location.head()"
   ]
  },
  {
   "cell_type": "markdown",
   "metadata": {},
   "source": [
    "#### 3. Map 112 weather stations (lat/long) to region"
   ]
  },
  {
   "cell_type": "code",
   "execution_count": 98,
   "metadata": {},
   "outputs": [],
   "source": [
    "count_per_location['lat/long'] = count_per_location['latitude'].astype(str) + ',' + count_per_location['longitude'].astype(str)"
   ]
  },
  {
   "cell_type": "code",
   "execution_count": 100,
   "metadata": {},
   "outputs": [
    {
     "name": "stdout",
     "output_type": "stream",
     "text": [
      "{'0': 'HARJUMAA', '1': 'HIIUMAA', '2': 'IDA-VIRUMAA', '3': 'JÄRVAMAA', '4': 'JÕGEVAMAA', '5': 'LÄÄNE-VIRUMAA', '6': 'LÄÄNEMAA', '7': 'PÄRNUMAA', '8': 'PÕLVAMAA', '9': 'RAPLAMAA', '10': 'SAAREMAA', '11': 'TARTUMAA', '12': 'UNKNOWN', '13': 'VALGAMAA', '14': 'VILJANDIMAA', '15': 'VÕRUMAA'}\n"
     ]
    }
   ],
   "source": [
    "print(countyname)"
   ]
  },
  {
   "cell_type": "code",
   "execution_count": 101,
   "metadata": {},
   "outputs": [],
   "source": [
    "station_dict = {'station1':'12','station2':'12','station3':'12','station4':'10','station5':'12','station6':'12','station7':'12','station8':'12','station9':'12','station10':'12','station11':'15','station12':'15','station13':'12','station14':'12','station15':'10','station16':'10','station17':'12','station18':'10','station19':'7','station20':'7','station21':'12','station22':'12','station23':'13','station24':'13','station25':'15','station26':'15','station27':'8','station28':'12','station29':'10','station30':'10','station31':'10','station32':'10','station33':'7','station34':'7','station35':'7','station36':'7','station37':'14','station38':'11','station39':'11','station40':'8','station41':'12','station42':'12','station43':'10','station44':'10','station45':'10','station46':'10','station47':'7','station48':'7','station49':'7','station50':'14','station51':'14','station52':'4','station53':'11','station54':'11','station55':'12','station56':'12','station57':'1','station58':'1','station59':'1','station60':'1','station61':'6','station62':'9','station63':'9','station64':'9','station65':'3','station66':'4','station67':'4','station68':'4','station69':'12',\n",
    "'station70':'12','station71':'12','station72':'1','station73':'1','station74':'6','station75':'6','station76':'0','station77':'9','station78':'0','station79':'3','station80':'5','station81':'5','station82':'2','station83':'2','station84':'12','station85':'12','station86':'12','station87':'12','station88':'6','station89':'0','station90':'0','station91':'0','station92':'0','station93':'0','station94':'5','station95':'5','station96':'2','station97':'2','station98':'12','station99':'12','station100':'12','station101':'12','station102':'12','station103':'12','station104':'12','station105':'0','station106':'0','station107':'0','station108':'5','station109':'5','station110':'12','station111':'12','station112':'12'}"
   ]
  },
  {
   "cell_type": "code",
   "execution_count": 102,
   "metadata": {},
   "outputs": [],
   "source": [
    "count_per_location['county_code'] = count_per_location['station'].map(station_dict)"
   ]
  },
  {
   "cell_type": "code",
   "execution_count": 104,
   "metadata": {},
   "outputs": [],
   "source": [
    "count_per_location['county_name'] = count_per_location['county_code'].map(countyname)"
   ]
  },
  {
   "cell_type": "code",
   "execution_count": 108,
   "metadata": {},
   "outputs": [
    {
     "data": {
      "text/html": [
       "<div>\n",
       "<style scoped>\n",
       "    .dataframe tbody tr th:only-of-type {\n",
       "        vertical-align: middle;\n",
       "    }\n",
       "\n",
       "    .dataframe tbody tr th {\n",
       "        vertical-align: top;\n",
       "    }\n",
       "\n",
       "    .dataframe thead th {\n",
       "        text-align: right;\n",
       "    }\n",
       "</style>\n",
       "<table border=\"1\" class=\"dataframe\">\n",
       "  <thead>\n",
       "    <tr style=\"text-align: right;\">\n",
       "      <th></th>\n",
       "      <th>latitude</th>\n",
       "      <th>longitude</th>\n",
       "      <th>count</th>\n",
       "      <th>station</th>\n",
       "      <th>lat/long</th>\n",
       "      <th>county_code</th>\n",
       "      <th>county_name</th>\n",
       "    </tr>\n",
       "  </thead>\n",
       "  <tbody>\n",
       "    <tr>\n",
       "      <th>0</th>\n",
       "      <td>57.6</td>\n",
       "      <td>21.7</td>\n",
       "      <td>30576</td>\n",
       "      <td>station1</td>\n",
       "      <td>57.6,21.7</td>\n",
       "      <td>12</td>\n",
       "      <td>UNKNOWN</td>\n",
       "    </tr>\n",
       "    <tr>\n",
       "      <th>1</th>\n",
       "      <td>57.6</td>\n",
       "      <td>22.2</td>\n",
       "      <td>30576</td>\n",
       "      <td>station2</td>\n",
       "      <td>57.6,22.2</td>\n",
       "      <td>12</td>\n",
       "      <td>UNKNOWN</td>\n",
       "    </tr>\n",
       "    <tr>\n",
       "      <th>2</th>\n",
       "      <td>57.6</td>\n",
       "      <td>22.7</td>\n",
       "      <td>30576</td>\n",
       "      <td>station3</td>\n",
       "      <td>57.6,22.7</td>\n",
       "      <td>12</td>\n",
       "      <td>UNKNOWN</td>\n",
       "    </tr>\n",
       "    <tr>\n",
       "      <th>3</th>\n",
       "      <td>57.6</td>\n",
       "      <td>23.2</td>\n",
       "      <td>30576</td>\n",
       "      <td>station4</td>\n",
       "      <td>57.6,23.2</td>\n",
       "      <td>10</td>\n",
       "      <td>SAAREMAA</td>\n",
       "    </tr>\n",
       "    <tr>\n",
       "      <th>4</th>\n",
       "      <td>57.6</td>\n",
       "      <td>23.7</td>\n",
       "      <td>30576</td>\n",
       "      <td>station5</td>\n",
       "      <td>57.6,23.7</td>\n",
       "      <td>12</td>\n",
       "      <td>UNKNOWN</td>\n",
       "    </tr>\n",
       "  </tbody>\n",
       "</table>\n",
       "</div>"
      ],
      "text/plain": [
       "   latitude  longitude  count   station   lat/long county_code county_name\n",
       "0      57.6       21.7  30576  station1  57.6,21.7          12     UNKNOWN\n",
       "1      57.6       22.2  30576  station2  57.6,22.2          12     UNKNOWN\n",
       "2      57.6       22.7  30576  station3  57.6,22.7          12     UNKNOWN\n",
       "3      57.6       23.2  30576  station4  57.6,23.2          10    SAAREMAA\n",
       "4      57.6       23.7  30576  station5  57.6,23.7          12     UNKNOWN"
      ]
     },
     "execution_count": 108,
     "metadata": {},
     "output_type": "execute_result"
    }
   ],
   "source": [
    "count_per_location.head()"
   ]
  },
  {
   "cell_type": "code",
   "execution_count": 54,
   "metadata": {},
   "outputs": [],
   "source": [
    "# Convert 'latitude' and 'longitude' columns into tuples\n",
    "gps_locations = list(zip(count_per_location['latitude'], count_per_location['longitude']))\n",
    "\n",
    "# Add a new column 'station' to count_per_location with station names\n",
    "count_per_location['station'] = ['station{}'.format(i + 1) for i in range(len(count_per_location))]"
   ]
  },
  {
   "cell_type": "code",
   "execution_count": 61,
   "metadata": {},
   "outputs": [
    {
     "data": {
      "text/html": [
       "<div>\n",
       "<style scoped>\n",
       "    .dataframe tbody tr th:only-of-type {\n",
       "        vertical-align: middle;\n",
       "    }\n",
       "\n",
       "    .dataframe tbody tr th {\n",
       "        vertical-align: top;\n",
       "    }\n",
       "\n",
       "    .dataframe thead th {\n",
       "        text-align: right;\n",
       "    }\n",
       "</style>\n",
       "<table border=\"1\" class=\"dataframe\">\n",
       "  <thead>\n",
       "    <tr style=\"text-align: right;\">\n",
       "      <th></th>\n",
       "      <th>origin_datetime</th>\n",
       "      <th>forecast_datetime</th>\n",
       "      <th>hours_ahead</th>\n",
       "      <th>latitude</th>\n",
       "      <th>longitude</th>\n",
       "      <th>data_block_id</th>\n",
       "      <th>temperature</th>\n",
       "      <th>dewpoint</th>\n",
       "      <th>cloudcover_high</th>\n",
       "      <th>cloudcover_low</th>\n",
       "      <th>cloudcover_mid</th>\n",
       "      <th>cloudcover_total</th>\n",
       "      <th>10_metre_u_wind_component</th>\n",
       "      <th>10_metre_v_wind_component</th>\n",
       "      <th>direct_solar_radiation</th>\n",
       "      <th>surface_solar_radiation_downwards</th>\n",
       "      <th>snowfall</th>\n",
       "      <th>total_precipitation</th>\n",
       "    </tr>\n",
       "  </thead>\n",
       "  <tbody>\n",
       "    <tr>\n",
       "      <th>0</th>\n",
       "      <td>2021-09-01 02:00:00</td>\n",
       "      <td>2021-09-01 03:00:00</td>\n",
       "      <td>1</td>\n",
       "      <td>57.6</td>\n",
       "      <td>21.7</td>\n",
       "      <td>1</td>\n",
       "      <td>15.655786</td>\n",
       "      <td>11.553613</td>\n",
       "      <td>0.904816</td>\n",
       "      <td>0.019714</td>\n",
       "      <td>0.000000</td>\n",
       "      <td>0.905899</td>\n",
       "      <td>-0.411328</td>\n",
       "      <td>-9.106137</td>\n",
       "      <td>0.0</td>\n",
       "      <td>0.0</td>\n",
       "      <td>0.0</td>\n",
       "      <td>0.0</td>\n",
       "    </tr>\n",
       "    <tr>\n",
       "      <th>1</th>\n",
       "      <td>2021-09-01 02:00:00</td>\n",
       "      <td>2021-09-01 03:00:00</td>\n",
       "      <td>1</td>\n",
       "      <td>57.6</td>\n",
       "      <td>22.2</td>\n",
       "      <td>1</td>\n",
       "      <td>13.003931</td>\n",
       "      <td>10.689844</td>\n",
       "      <td>0.886322</td>\n",
       "      <td>0.004456</td>\n",
       "      <td>0.000000</td>\n",
       "      <td>0.886658</td>\n",
       "      <td>0.206347</td>\n",
       "      <td>-5.355405</td>\n",
       "      <td>0.0</td>\n",
       "      <td>0.0</td>\n",
       "      <td>0.0</td>\n",
       "      <td>0.0</td>\n",
       "    </tr>\n",
       "    <tr>\n",
       "      <th>2</th>\n",
       "      <td>2021-09-01 02:00:00</td>\n",
       "      <td>2021-09-01 03:00:00</td>\n",
       "      <td>1</td>\n",
       "      <td>57.6</td>\n",
       "      <td>22.7</td>\n",
       "      <td>1</td>\n",
       "      <td>14.206567</td>\n",
       "      <td>11.671777</td>\n",
       "      <td>0.729034</td>\n",
       "      <td>0.005615</td>\n",
       "      <td>0.000000</td>\n",
       "      <td>0.730499</td>\n",
       "      <td>1.451587</td>\n",
       "      <td>-7.417905</td>\n",
       "      <td>0.0</td>\n",
       "      <td>0.0</td>\n",
       "      <td>0.0</td>\n",
       "      <td>0.0</td>\n",
       "    </tr>\n",
       "    <tr>\n",
       "      <th>3</th>\n",
       "      <td>2021-09-01 02:00:00</td>\n",
       "      <td>2021-09-01 03:00:00</td>\n",
       "      <td>1</td>\n",
       "      <td>57.6</td>\n",
       "      <td>23.2</td>\n",
       "      <td>1</td>\n",
       "      <td>14.844507</td>\n",
       "      <td>12.264917</td>\n",
       "      <td>0.336304</td>\n",
       "      <td>0.074341</td>\n",
       "      <td>0.000626</td>\n",
       "      <td>0.385468</td>\n",
       "      <td>1.090869</td>\n",
       "      <td>-9.163999</td>\n",
       "      <td>0.0</td>\n",
       "      <td>0.0</td>\n",
       "      <td>0.0</td>\n",
       "      <td>0.0</td>\n",
       "    </tr>\n",
       "    <tr>\n",
       "      <th>4</th>\n",
       "      <td>2021-09-01 02:00:00</td>\n",
       "      <td>2021-09-01 03:00:00</td>\n",
       "      <td>1</td>\n",
       "      <td>57.6</td>\n",
       "      <td>23.7</td>\n",
       "      <td>1</td>\n",
       "      <td>15.293848</td>\n",
       "      <td>12.458887</td>\n",
       "      <td>0.102875</td>\n",
       "      <td>0.088074</td>\n",
       "      <td>0.000015</td>\n",
       "      <td>0.176590</td>\n",
       "      <td>1.268481</td>\n",
       "      <td>-8.975766</td>\n",
       "      <td>0.0</td>\n",
       "      <td>0.0</td>\n",
       "      <td>0.0</td>\n",
       "      <td>0.0</td>\n",
       "    </tr>\n",
       "  </tbody>\n",
       "</table>\n",
       "</div>"
      ],
      "text/plain": [
       "       origin_datetime    forecast_datetime  hours_ahead  latitude  longitude  \\\n",
       "0  2021-09-01 02:00:00  2021-09-01 03:00:00            1      57.6       21.7   \n",
       "1  2021-09-01 02:00:00  2021-09-01 03:00:00            1      57.6       22.2   \n",
       "2  2021-09-01 02:00:00  2021-09-01 03:00:00            1      57.6       22.7   \n",
       "3  2021-09-01 02:00:00  2021-09-01 03:00:00            1      57.6       23.2   \n",
       "4  2021-09-01 02:00:00  2021-09-01 03:00:00            1      57.6       23.7   \n",
       "\n",
       "   data_block_id  temperature   dewpoint  cloudcover_high  cloudcover_low  \\\n",
       "0              1    15.655786  11.553613         0.904816        0.019714   \n",
       "1              1    13.003931  10.689844         0.886322        0.004456   \n",
       "2              1    14.206567  11.671777         0.729034        0.005615   \n",
       "3              1    14.844507  12.264917         0.336304        0.074341   \n",
       "4              1    15.293848  12.458887         0.102875        0.088074   \n",
       "\n",
       "   cloudcover_mid  cloudcover_total  10_metre_u_wind_component  \\\n",
       "0        0.000000          0.905899                  -0.411328   \n",
       "1        0.000000          0.886658                   0.206347   \n",
       "2        0.000000          0.730499                   1.451587   \n",
       "3        0.000626          0.385468                   1.090869   \n",
       "4        0.000015          0.176590                   1.268481   \n",
       "\n",
       "   10_metre_v_wind_component  direct_solar_radiation  \\\n",
       "0                  -9.106137                     0.0   \n",
       "1                  -5.355405                     0.0   \n",
       "2                  -7.417905                     0.0   \n",
       "3                  -9.163999                     0.0   \n",
       "4                  -8.975766                     0.0   \n",
       "\n",
       "   surface_solar_radiation_downwards  snowfall  total_precipitation  \n",
       "0                                0.0       0.0                  0.0  \n",
       "1                                0.0       0.0                  0.0  \n",
       "2                                0.0       0.0                  0.0  \n",
       "3                                0.0       0.0                  0.0  \n",
       "4                                0.0       0.0                  0.0  "
      ]
     },
     "execution_count": 61,
     "metadata": {},
     "output_type": "execute_result"
    }
   ],
   "source": [
    "df_forecast.head()"
   ]
  },
  {
   "cell_type": "code",
   "execution_count": 58,
   "metadata": {},
   "outputs": [
    {
     "data": {
      "text/plain": [
       "origin_datetime                       object\n",
       "forecast_datetime                     object\n",
       "hours_ahead                            int64\n",
       "latitude                             float64\n",
       "longitude                            float64\n",
       "data_block_id                          int64\n",
       "temperature                          float64\n",
       "dewpoint                             float64\n",
       "cloudcover_high                      float64\n",
       "cloudcover_low                       float64\n",
       "cloudcover_mid                       float64\n",
       "cloudcover_total                     float64\n",
       "10_metre_u_wind_component            float64\n",
       "10_metre_v_wind_component            float64\n",
       "direct_solar_radiation               float64\n",
       "surface_solar_radiation_downwards     object\n",
       "snowfall                             float64\n",
       "total_precipitation                  float64\n",
       "dtype: object"
      ]
     },
     "execution_count": 58,
     "metadata": {},
     "output_type": "execute_result"
    }
   ],
   "source": [
    "df_forecast.dtypes"
   ]
  },
  {
   "cell_type": "markdown",
   "metadata": {},
   "source": [
    "#### 4. Fix empty values in ['surface_solar_radiation_downwards']"
   ]
  },
  {
   "cell_type": "code",
   "execution_count": 59,
   "metadata": {},
   "outputs": [
    {
     "name": "stdout",
     "output_type": "stream",
     "text": [
      "Number of rows with empty string in 'surface_solar_radiation_downwards' column: 2\n"
     ]
    }
   ],
   "source": [
    "value_counts = df_forecast['surface_solar_radiation_downwards'].value_counts()\n",
    "\n",
    "# Check how many rows have an empty string\n",
    "empty_string_count = value_counts['']\n",
    "\n",
    "print(f\"Number of rows with empty string in 'surface_solar_radiation_downwards' column: {empty_string_count}\")"
   ]
  },
  {
   "cell_type": "code",
   "execution_count": 60,
   "metadata": {},
   "outputs": [
    {
     "name": "stdout",
     "output_type": "stream",
     "text": [
      "origin_datetime                       object\n",
      "forecast_datetime                     object\n",
      "hours_ahead                            int64\n",
      "latitude                             float64\n",
      "longitude                            float64\n",
      "data_block_id                          int64\n",
      "temperature                          float64\n",
      "dewpoint                             float64\n",
      "cloudcover_high                      float64\n",
      "cloudcover_low                       float64\n",
      "cloudcover_mid                       float64\n",
      "cloudcover_total                     float64\n",
      "10_metre_u_wind_component            float64\n",
      "10_metre_v_wind_component            float64\n",
      "direct_solar_radiation               float64\n",
      "surface_solar_radiation_downwards    float64\n",
      "snowfall                             float64\n",
      "total_precipitation                  float64\n",
      "dtype: object\n"
     ]
    }
   ],
   "source": [
    "# Replace empty strings with NaN\n",
    "df_forecast['surface_solar_radiation_downwards'] = df_forecast['surface_solar_radiation_downwards'].replace('', np.nan).astype(float)\n",
    "\n",
    "# Check the data types after conversion\n",
    "print(df_forecast.dtypes)"
   ]
  },
  {
   "cell_type": "markdown",
   "metadata": {},
   "source": [
    "5. Add dates to Weather Forecast"
   ]
  },
  {
   "cell_type": "code",
   "execution_count": 63,
   "metadata": {},
   "outputs": [
    {
     "name": "stdout",
     "output_type": "stream",
     "text": [
      "origin_datetime                      datetime64[ns]\n",
      "forecast_datetime                    datetime64[ns]\n",
      "hours_ahead                                   int64\n",
      "latitude                                    float64\n",
      "longitude                                   float64\n",
      "data_block_id                                 int64\n",
      "temperature                                 float64\n",
      "dewpoint                                    float64\n",
      "cloudcover_high                             float64\n",
      "cloudcover_low                              float64\n",
      "cloudcover_mid                              float64\n",
      "cloudcover_total                            float64\n",
      "10_metre_u_wind_component                   float64\n",
      "10_metre_v_wind_component                   float64\n",
      "direct_solar_radiation                      float64\n",
      "surface_solar_radiation_downwards           float64\n",
      "snowfall                                    float64\n",
      "total_precipitation                         float64\n",
      "dtype: object\n"
     ]
    }
   ],
   "source": [
    "df_forecast['origin_datetime'] = pd.to_datetime(df_forecast['origin_datetime'], errors='coerce')\n",
    "df_forecast['forecast_datetime'] = pd.to_datetime(df_forecast['forecast_datetime'], errors='coerce')"
   ]
  },
  {
   "cell_type": "code",
   "execution_count": 66,
   "metadata": {},
   "outputs": [
    {
     "name": "stdout",
     "output_type": "stream",
     "text": [
      "2021-09-01 02:00:00 2023-05-30 02:00:00\n"
     ]
    }
   ],
   "source": [
    "print (df_forecast['origin_datetime'].min(), df_forecast['origin_datetime'].max())"
   ]
  },
  {
   "cell_type": "code",
   "execution_count": 86,
   "metadata": {},
   "outputs": [],
   "source": [
    "# Create new columns\n",
    "df_forecast['origin_date'] = df_forecast['origin_datetime'].dt.date\n",
    "df_forecast['origin_time'] = df_forecast['origin_datetime'].dt.time"
   ]
  },
  {
   "cell_type": "code",
   "execution_count": null,
   "metadata": {},
   "outputs": [],
   "source": [
    "# Create new columns\n",
    "df_forecast['forecast_datetime'] = df_forecast['forecast_datetime'].dt.date\n",
    "df_forecast['forecast_datetime'] = df_forecast['forecast_datetime'].dt.time"
   ]
  },
  {
   "cell_type": "code",
   "execution_count": 92,
   "metadata": {},
   "outputs": [],
   "source": [
    "df_forecast['forecast_datetime'] = pd.to_datetime(df_forecast['forecast_datetime'], errors='coerce')"
   ]
  },
  {
   "cell_type": "code",
   "execution_count": 94,
   "metadata": {},
   "outputs": [
    {
     "data": {
      "text/html": [
       "<div>\n",
       "<style scoped>\n",
       "    .dataframe tbody tr th:only-of-type {\n",
       "        vertical-align: middle;\n",
       "    }\n",
       "\n",
       "    .dataframe tbody tr th {\n",
       "        vertical-align: top;\n",
       "    }\n",
       "\n",
       "    .dataframe thead th {\n",
       "        text-align: right;\n",
       "    }\n",
       "</style>\n",
       "<table border=\"1\" class=\"dataframe\">\n",
       "  <thead>\n",
       "    <tr style=\"text-align: right;\">\n",
       "      <th></th>\n",
       "      <th>origin_datetime</th>\n",
       "      <th>forecast_datetime</th>\n",
       "      <th>origin_date</th>\n",
       "      <th>origin_time</th>\n",
       "      <th>hours_ahead</th>\n",
       "      <th>latitude</th>\n",
       "      <th>longitude</th>\n",
       "      <th>data_block_id</th>\n",
       "      <th>temperature</th>\n",
       "      <th>dewpoint</th>\n",
       "      <th>cloudcover_high</th>\n",
       "      <th>cloudcover_low</th>\n",
       "      <th>cloudcover_mid</th>\n",
       "      <th>cloudcover_total</th>\n",
       "      <th>10_metre_u_wind_component</th>\n",
       "      <th>10_metre_v_wind_component</th>\n",
       "      <th>direct_solar_radiation</th>\n",
       "      <th>surface_solar_radiation_downwards</th>\n",
       "      <th>snowfall</th>\n",
       "      <th>total_precipitation</th>\n",
       "    </tr>\n",
       "  </thead>\n",
       "  <tbody>\n",
       "    <tr>\n",
       "      <th>0</th>\n",
       "      <td>2021-09-01 02:00:00</td>\n",
       "      <td>2021-09-01</td>\n",
       "      <td>2021-09-01</td>\n",
       "      <td>02:00:00</td>\n",
       "      <td>1</td>\n",
       "      <td>57.6</td>\n",
       "      <td>21.7</td>\n",
       "      <td>1</td>\n",
       "      <td>15.655786</td>\n",
       "      <td>11.553613</td>\n",
       "      <td>0.904816</td>\n",
       "      <td>0.019714</td>\n",
       "      <td>0.000000</td>\n",
       "      <td>0.905899</td>\n",
       "      <td>-0.411328</td>\n",
       "      <td>-9.106137</td>\n",
       "      <td>0.0</td>\n",
       "      <td>0.0</td>\n",
       "      <td>0.0</td>\n",
       "      <td>0.0</td>\n",
       "    </tr>\n",
       "    <tr>\n",
       "      <th>1</th>\n",
       "      <td>2021-09-01 02:00:00</td>\n",
       "      <td>2021-09-01</td>\n",
       "      <td>2021-09-01</td>\n",
       "      <td>02:00:00</td>\n",
       "      <td>1</td>\n",
       "      <td>57.6</td>\n",
       "      <td>22.2</td>\n",
       "      <td>1</td>\n",
       "      <td>13.003931</td>\n",
       "      <td>10.689844</td>\n",
       "      <td>0.886322</td>\n",
       "      <td>0.004456</td>\n",
       "      <td>0.000000</td>\n",
       "      <td>0.886658</td>\n",
       "      <td>0.206347</td>\n",
       "      <td>-5.355405</td>\n",
       "      <td>0.0</td>\n",
       "      <td>0.0</td>\n",
       "      <td>0.0</td>\n",
       "      <td>0.0</td>\n",
       "    </tr>\n",
       "    <tr>\n",
       "      <th>2</th>\n",
       "      <td>2021-09-01 02:00:00</td>\n",
       "      <td>2021-09-01</td>\n",
       "      <td>2021-09-01</td>\n",
       "      <td>02:00:00</td>\n",
       "      <td>1</td>\n",
       "      <td>57.6</td>\n",
       "      <td>22.7</td>\n",
       "      <td>1</td>\n",
       "      <td>14.206567</td>\n",
       "      <td>11.671777</td>\n",
       "      <td>0.729034</td>\n",
       "      <td>0.005615</td>\n",
       "      <td>0.000000</td>\n",
       "      <td>0.730499</td>\n",
       "      <td>1.451587</td>\n",
       "      <td>-7.417905</td>\n",
       "      <td>0.0</td>\n",
       "      <td>0.0</td>\n",
       "      <td>0.0</td>\n",
       "      <td>0.0</td>\n",
       "    </tr>\n",
       "    <tr>\n",
       "      <th>3</th>\n",
       "      <td>2021-09-01 02:00:00</td>\n",
       "      <td>2021-09-01</td>\n",
       "      <td>2021-09-01</td>\n",
       "      <td>02:00:00</td>\n",
       "      <td>1</td>\n",
       "      <td>57.6</td>\n",
       "      <td>23.2</td>\n",
       "      <td>1</td>\n",
       "      <td>14.844507</td>\n",
       "      <td>12.264917</td>\n",
       "      <td>0.336304</td>\n",
       "      <td>0.074341</td>\n",
       "      <td>0.000626</td>\n",
       "      <td>0.385468</td>\n",
       "      <td>1.090869</td>\n",
       "      <td>-9.163999</td>\n",
       "      <td>0.0</td>\n",
       "      <td>0.0</td>\n",
       "      <td>0.0</td>\n",
       "      <td>0.0</td>\n",
       "    </tr>\n",
       "    <tr>\n",
       "      <th>4</th>\n",
       "      <td>2021-09-01 02:00:00</td>\n",
       "      <td>2021-09-01</td>\n",
       "      <td>2021-09-01</td>\n",
       "      <td>02:00:00</td>\n",
       "      <td>1</td>\n",
       "      <td>57.6</td>\n",
       "      <td>23.7</td>\n",
       "      <td>1</td>\n",
       "      <td>15.293848</td>\n",
       "      <td>12.458887</td>\n",
       "      <td>0.102875</td>\n",
       "      <td>0.088074</td>\n",
       "      <td>0.000015</td>\n",
       "      <td>0.176590</td>\n",
       "      <td>1.268481</td>\n",
       "      <td>-8.975766</td>\n",
       "      <td>0.0</td>\n",
       "      <td>0.0</td>\n",
       "      <td>0.0</td>\n",
       "      <td>0.0</td>\n",
       "    </tr>\n",
       "  </tbody>\n",
       "</table>\n",
       "</div>"
      ],
      "text/plain": [
       "      origin_datetime forecast_datetime origin_date origin_time  hours_ahead  \\\n",
       "0 2021-09-01 02:00:00        2021-09-01  2021-09-01    02:00:00            1   \n",
       "1 2021-09-01 02:00:00        2021-09-01  2021-09-01    02:00:00            1   \n",
       "2 2021-09-01 02:00:00        2021-09-01  2021-09-01    02:00:00            1   \n",
       "3 2021-09-01 02:00:00        2021-09-01  2021-09-01    02:00:00            1   \n",
       "4 2021-09-01 02:00:00        2021-09-01  2021-09-01    02:00:00            1   \n",
       "\n",
       "   latitude  longitude  data_block_id  temperature   dewpoint  \\\n",
       "0      57.6       21.7              1    15.655786  11.553613   \n",
       "1      57.6       22.2              1    13.003931  10.689844   \n",
       "2      57.6       22.7              1    14.206567  11.671777   \n",
       "3      57.6       23.2              1    14.844507  12.264917   \n",
       "4      57.6       23.7              1    15.293848  12.458887   \n",
       "\n",
       "   cloudcover_high  cloudcover_low  cloudcover_mid  cloudcover_total  \\\n",
       "0         0.904816        0.019714        0.000000          0.905899   \n",
       "1         0.886322        0.004456        0.000000          0.886658   \n",
       "2         0.729034        0.005615        0.000000          0.730499   \n",
       "3         0.336304        0.074341        0.000626          0.385468   \n",
       "4         0.102875        0.088074        0.000015          0.176590   \n",
       "\n",
       "   10_metre_u_wind_component  10_metre_v_wind_component  \\\n",
       "0                  -0.411328                  -9.106137   \n",
       "1                   0.206347                  -5.355405   \n",
       "2                   1.451587                  -7.417905   \n",
       "3                   1.090869                  -9.163999   \n",
       "4                   1.268481                  -8.975766   \n",
       "\n",
       "   direct_solar_radiation  surface_solar_radiation_downwards  snowfall  \\\n",
       "0                     0.0                                0.0       0.0   \n",
       "1                     0.0                                0.0       0.0   \n",
       "2                     0.0                                0.0       0.0   \n",
       "3                     0.0                                0.0       0.0   \n",
       "4                     0.0                                0.0       0.0   \n",
       "\n",
       "   total_precipitation  \n",
       "0                  0.0  \n",
       "1                  0.0  \n",
       "2                  0.0  \n",
       "3                  0.0  \n",
       "4                  0.0  "
      ]
     },
     "execution_count": 94,
     "metadata": {},
     "output_type": "execute_result"
    }
   ],
   "source": [
    "df_forecast.head()"
   ]
  },
  {
   "cell_type": "markdown",
   "metadata": {},
   "source": [
    "### Analyze Historical Weather (df_history.csv)"
   ]
  },
  {
   "cell_type": "code",
   "execution_count": 160,
   "metadata": {},
   "outputs": [
    {
     "data": {
      "text/html": [
       "<div>\n",
       "<style scoped>\n",
       "    .dataframe tbody tr th:only-of-type {\n",
       "        vertical-align: middle;\n",
       "    }\n",
       "\n",
       "    .dataframe tbody tr th {\n",
       "        vertical-align: top;\n",
       "    }\n",
       "\n",
       "    .dataframe thead th {\n",
       "        text-align: right;\n",
       "    }\n",
       "</style>\n",
       "<table border=\"1\" class=\"dataframe\">\n",
       "  <thead>\n",
       "    <tr style=\"text-align: right;\">\n",
       "      <th></th>\n",
       "      <th>datetime</th>\n",
       "      <th>temperature</th>\n",
       "      <th>dewpoint</th>\n",
       "      <th>rain</th>\n",
       "      <th>snowfall</th>\n",
       "      <th>surface_pressure</th>\n",
       "      <th>cloudcover_total</th>\n",
       "      <th>cloudcover_low</th>\n",
       "      <th>cloudcover_mid</th>\n",
       "      <th>cloudcover_high</th>\n",
       "      <th>windspeed_10m</th>\n",
       "      <th>winddirection_10m</th>\n",
       "      <th>shortwave_radiation</th>\n",
       "      <th>direct_solar_radiation</th>\n",
       "      <th>diffuse_radiation</th>\n",
       "      <th>latitude</th>\n",
       "      <th>longitude</th>\n",
       "      <th>data_block_id</th>\n",
       "    </tr>\n",
       "  </thead>\n",
       "  <tbody>\n",
       "    <tr>\n",
       "      <th>0</th>\n",
       "      <td>2021-09-01 00:00:00</td>\n",
       "      <td>14.2</td>\n",
       "      <td>11.6</td>\n",
       "      <td>0.0</td>\n",
       "      <td>0.0</td>\n",
       "      <td>1015.9</td>\n",
       "      <td>31</td>\n",
       "      <td>31</td>\n",
       "      <td>0</td>\n",
       "      <td>11</td>\n",
       "      <td>7.083333</td>\n",
       "      <td>8</td>\n",
       "      <td>0.0</td>\n",
       "      <td>0.0</td>\n",
       "      <td>0.0</td>\n",
       "      <td>57.6</td>\n",
       "      <td>21.7</td>\n",
       "      <td>1.0</td>\n",
       "    </tr>\n",
       "    <tr>\n",
       "      <th>1</th>\n",
       "      <td>2021-09-01 00:00:00</td>\n",
       "      <td>13.9</td>\n",
       "      <td>11.5</td>\n",
       "      <td>0.0</td>\n",
       "      <td>0.0</td>\n",
       "      <td>1010.7</td>\n",
       "      <td>33</td>\n",
       "      <td>37</td>\n",
       "      <td>0</td>\n",
       "      <td>0</td>\n",
       "      <td>5.111111</td>\n",
       "      <td>359</td>\n",
       "      <td>0.0</td>\n",
       "      <td>0.0</td>\n",
       "      <td>0.0</td>\n",
       "      <td>57.6</td>\n",
       "      <td>22.2</td>\n",
       "      <td>1.0</td>\n",
       "    </tr>\n",
       "    <tr>\n",
       "      <th>2</th>\n",
       "      <td>2021-09-01 00:00:00</td>\n",
       "      <td>14.0</td>\n",
       "      <td>12.5</td>\n",
       "      <td>0.0</td>\n",
       "      <td>0.0</td>\n",
       "      <td>1015.0</td>\n",
       "      <td>31</td>\n",
       "      <td>34</td>\n",
       "      <td>0</td>\n",
       "      <td>0</td>\n",
       "      <td>6.333333</td>\n",
       "      <td>355</td>\n",
       "      <td>0.0</td>\n",
       "      <td>0.0</td>\n",
       "      <td>0.0</td>\n",
       "      <td>57.6</td>\n",
       "      <td>22.7</td>\n",
       "      <td>1.0</td>\n",
       "    </tr>\n",
       "    <tr>\n",
       "      <th>3</th>\n",
       "      <td>2021-09-01 00:00:00</td>\n",
       "      <td>14.6</td>\n",
       "      <td>11.5</td>\n",
       "      <td>0.0</td>\n",
       "      <td>0.0</td>\n",
       "      <td>1017.3</td>\n",
       "      <td>0</td>\n",
       "      <td>0</td>\n",
       "      <td>0</td>\n",
       "      <td>0</td>\n",
       "      <td>8.083333</td>\n",
       "      <td>297</td>\n",
       "      <td>358.0</td>\n",
       "      <td>277.0</td>\n",
       "      <td>81.0</td>\n",
       "      <td>57.6</td>\n",
       "      <td>23.2</td>\n",
       "      <td>1.0</td>\n",
       "    </tr>\n",
       "    <tr>\n",
       "      <th>4</th>\n",
       "      <td>2021-09-01 00:00:00</td>\n",
       "      <td>15.7</td>\n",
       "      <td>12.9</td>\n",
       "      <td>0.0</td>\n",
       "      <td>0.0</td>\n",
       "      <td>1014.0</td>\n",
       "      <td>22</td>\n",
       "      <td>25</td>\n",
       "      <td>0</td>\n",
       "      <td>0</td>\n",
       "      <td>8.416667</td>\n",
       "      <td>5</td>\n",
       "      <td>0.0</td>\n",
       "      <td>0.0</td>\n",
       "      <td>0.0</td>\n",
       "      <td>57.6</td>\n",
       "      <td>23.7</td>\n",
       "      <td>1.0</td>\n",
       "    </tr>\n",
       "  </tbody>\n",
       "</table>\n",
       "</div>"
      ],
      "text/plain": [
       "              datetime  temperature  dewpoint  rain  snowfall  \\\n",
       "0  2021-09-01 00:00:00         14.2      11.6   0.0       0.0   \n",
       "1  2021-09-01 00:00:00         13.9      11.5   0.0       0.0   \n",
       "2  2021-09-01 00:00:00         14.0      12.5   0.0       0.0   \n",
       "3  2021-09-01 00:00:00         14.6      11.5   0.0       0.0   \n",
       "4  2021-09-01 00:00:00         15.7      12.9   0.0       0.0   \n",
       "\n",
       "   surface_pressure  cloudcover_total  cloudcover_low  cloudcover_mid  \\\n",
       "0            1015.9                31              31               0   \n",
       "1            1010.7                33              37               0   \n",
       "2            1015.0                31              34               0   \n",
       "3            1017.3                 0               0               0   \n",
       "4            1014.0                22              25               0   \n",
       "\n",
       "   cloudcover_high  windspeed_10m  winddirection_10m  shortwave_radiation  \\\n",
       "0               11       7.083333                  8                  0.0   \n",
       "1                0       5.111111                359                  0.0   \n",
       "2                0       6.333333                355                  0.0   \n",
       "3                0       8.083333                297                358.0   \n",
       "4                0       8.416667                  5                  0.0   \n",
       "\n",
       "   direct_solar_radiation  diffuse_radiation  latitude  longitude  \\\n",
       "0                     0.0                0.0      57.6       21.7   \n",
       "1                     0.0                0.0      57.6       22.2   \n",
       "2                     0.0                0.0      57.6       22.7   \n",
       "3                   277.0               81.0      57.6       23.2   \n",
       "4                     0.0                0.0      57.6       23.7   \n",
       "\n",
       "   data_block_id  \n",
       "0            1.0  \n",
       "1            1.0  \n",
       "2            1.0  \n",
       "3            1.0  \n",
       "4            1.0  "
      ]
     },
     "execution_count": 160,
     "metadata": {},
     "output_type": "execute_result"
    }
   ],
   "source": [
    "# Load data from the csv file\n",
    "\n",
    "df_hist = pd.read_csv('data/historical_weather.csv', keep_default_na=False)\n",
    "# client.columns = df_train.columns.str.lower()\n",
    "\n",
    "pd.set_option('display.max_columns', 18)\n",
    "df_hist.head(5)"
   ]
  },
  {
   "cell_type": "code",
   "execution_count": 149,
   "metadata": {},
   "outputs": [
    {
     "data": {
      "text/plain": [
       "(1710802, 18)"
      ]
     },
     "execution_count": 149,
     "metadata": {},
     "output_type": "execute_result"
    }
   ],
   "source": [
    "df_hist.shape"
   ]
  },
  {
   "cell_type": "code",
   "execution_count": 113,
   "metadata": {},
   "outputs": [
    {
     "name": "stdout",
     "output_type": "stream",
     "text": [
      "2021-09-01 00:00:00 2023-05-30 10:00:00\n"
     ]
    }
   ],
   "source": [
    "print(df_hist.datetime.min(), df_hist.datetime.max())"
   ]
  },
  {
   "cell_type": "code",
   "execution_count": 162,
   "metadata": {},
   "outputs": [
    {
     "data": {
      "text/plain": [
       "datetime                   object\n",
       "temperature               float64\n",
       "dewpoint                  float64\n",
       "rain                      float64\n",
       "snowfall                  float64\n",
       "surface_pressure          float64\n",
       "cloudcover_total            int64\n",
       "cloudcover_low              int64\n",
       "cloudcover_mid              int64\n",
       "cloudcover_high             int64\n",
       "windspeed_10m             float64\n",
       "winddirection_10m           int64\n",
       "shortwave_radiation       float64\n",
       "direct_solar_radiation    float64\n",
       "diffuse_radiation         float64\n",
       "latitude                  float64\n",
       "longitude                 float64\n",
       "data_block_id             float64\n",
       "datetime_copy              object\n",
       "dtype: object"
      ]
     },
     "execution_count": 162,
     "metadata": {},
     "output_type": "execute_result"
    }
   ],
   "source": [
    "df_hist.dtypes"
   ]
  },
  {
   "cell_type": "code",
   "execution_count": 161,
   "metadata": {},
   "outputs": [],
   "source": [
    "df_hist['datetime_copy'] = df_hist['datetime'].copy()"
   ]
  },
  {
   "cell_type": "code",
   "execution_count": 163,
   "metadata": {},
   "outputs": [],
   "source": [
    "# Create new columns\n",
    "df_hist['datetime'] = pd.to_datetime(df_hist['datetime'], errors='coerce')\n",
    "df_hist['datetime_date'] = df_hist['datetime'].dt.date\n",
    "df_hist['datetime_time'] = df_hist['datetime'].dt.time\n"
   ]
  },
  {
   "cell_type": "code",
   "execution_count": 164,
   "metadata": {},
   "outputs": [],
   "source": [
    "df_hist['datetime_time'] = pd.to_datetime(df_hist['datetime_time'], format='%H:%M:%S').dt.hour\n"
   ]
  },
  {
   "cell_type": "code",
   "execution_count": 165,
   "metadata": {},
   "outputs": [
    {
     "data": {
      "text/html": [
       "<div>\n",
       "<style scoped>\n",
       "    .dataframe tbody tr th:only-of-type {\n",
       "        vertical-align: middle;\n",
       "    }\n",
       "\n",
       "    .dataframe tbody tr th {\n",
       "        vertical-align: top;\n",
       "    }\n",
       "\n",
       "    .dataframe thead th {\n",
       "        text-align: right;\n",
       "    }\n",
       "</style>\n",
       "<table border=\"1\" class=\"dataframe\">\n",
       "  <thead>\n",
       "    <tr style=\"text-align: right;\">\n",
       "      <th></th>\n",
       "      <th>datetime</th>\n",
       "      <th>temperature</th>\n",
       "      <th>dewpoint</th>\n",
       "      <th>rain</th>\n",
       "      <th>snowfall</th>\n",
       "      <th>surface_pressure</th>\n",
       "      <th>cloudcover_total</th>\n",
       "      <th>cloudcover_low</th>\n",
       "      <th>cloudcover_mid</th>\n",
       "      <th>...</th>\n",
       "      <th>shortwave_radiation</th>\n",
       "      <th>direct_solar_radiation</th>\n",
       "      <th>diffuse_radiation</th>\n",
       "      <th>latitude</th>\n",
       "      <th>longitude</th>\n",
       "      <th>data_block_id</th>\n",
       "      <th>datetime_copy</th>\n",
       "      <th>datetime_date</th>\n",
       "      <th>datetime_time</th>\n",
       "    </tr>\n",
       "  </thead>\n",
       "  <tbody>\n",
       "    <tr>\n",
       "      <th>0</th>\n",
       "      <td>2021-09-01</td>\n",
       "      <td>14.2</td>\n",
       "      <td>11.6</td>\n",
       "      <td>0.0</td>\n",
       "      <td>0.0</td>\n",
       "      <td>1015.9</td>\n",
       "      <td>31</td>\n",
       "      <td>31</td>\n",
       "      <td>0</td>\n",
       "      <td>...</td>\n",
       "      <td>0.0</td>\n",
       "      <td>0.0</td>\n",
       "      <td>0.0</td>\n",
       "      <td>57.6</td>\n",
       "      <td>21.7</td>\n",
       "      <td>1.0</td>\n",
       "      <td>2021-09-01 00:00:00</td>\n",
       "      <td>2021-09-01</td>\n",
       "      <td>0</td>\n",
       "    </tr>\n",
       "    <tr>\n",
       "      <th>1</th>\n",
       "      <td>2021-09-01</td>\n",
       "      <td>13.9</td>\n",
       "      <td>11.5</td>\n",
       "      <td>0.0</td>\n",
       "      <td>0.0</td>\n",
       "      <td>1010.7</td>\n",
       "      <td>33</td>\n",
       "      <td>37</td>\n",
       "      <td>0</td>\n",
       "      <td>...</td>\n",
       "      <td>0.0</td>\n",
       "      <td>0.0</td>\n",
       "      <td>0.0</td>\n",
       "      <td>57.6</td>\n",
       "      <td>22.2</td>\n",
       "      <td>1.0</td>\n",
       "      <td>2021-09-01 00:00:00</td>\n",
       "      <td>2021-09-01</td>\n",
       "      <td>0</td>\n",
       "    </tr>\n",
       "    <tr>\n",
       "      <th>2</th>\n",
       "      <td>2021-09-01</td>\n",
       "      <td>14.0</td>\n",
       "      <td>12.5</td>\n",
       "      <td>0.0</td>\n",
       "      <td>0.0</td>\n",
       "      <td>1015.0</td>\n",
       "      <td>31</td>\n",
       "      <td>34</td>\n",
       "      <td>0</td>\n",
       "      <td>...</td>\n",
       "      <td>0.0</td>\n",
       "      <td>0.0</td>\n",
       "      <td>0.0</td>\n",
       "      <td>57.6</td>\n",
       "      <td>22.7</td>\n",
       "      <td>1.0</td>\n",
       "      <td>2021-09-01 00:00:00</td>\n",
       "      <td>2021-09-01</td>\n",
       "      <td>0</td>\n",
       "    </tr>\n",
       "    <tr>\n",
       "      <th>3</th>\n",
       "      <td>2021-09-01</td>\n",
       "      <td>14.6</td>\n",
       "      <td>11.5</td>\n",
       "      <td>0.0</td>\n",
       "      <td>0.0</td>\n",
       "      <td>1017.3</td>\n",
       "      <td>0</td>\n",
       "      <td>0</td>\n",
       "      <td>0</td>\n",
       "      <td>...</td>\n",
       "      <td>358.0</td>\n",
       "      <td>277.0</td>\n",
       "      <td>81.0</td>\n",
       "      <td>57.6</td>\n",
       "      <td>23.2</td>\n",
       "      <td>1.0</td>\n",
       "      <td>2021-09-01 00:00:00</td>\n",
       "      <td>2021-09-01</td>\n",
       "      <td>0</td>\n",
       "    </tr>\n",
       "    <tr>\n",
       "      <th>4</th>\n",
       "      <td>2021-09-01</td>\n",
       "      <td>15.7</td>\n",
       "      <td>12.9</td>\n",
       "      <td>0.0</td>\n",
       "      <td>0.0</td>\n",
       "      <td>1014.0</td>\n",
       "      <td>22</td>\n",
       "      <td>25</td>\n",
       "      <td>0</td>\n",
       "      <td>...</td>\n",
       "      <td>0.0</td>\n",
       "      <td>0.0</td>\n",
       "      <td>0.0</td>\n",
       "      <td>57.6</td>\n",
       "      <td>23.7</td>\n",
       "      <td>1.0</td>\n",
       "      <td>2021-09-01 00:00:00</td>\n",
       "      <td>2021-09-01</td>\n",
       "      <td>0</td>\n",
       "    </tr>\n",
       "  </tbody>\n",
       "</table>\n",
       "<p>5 rows × 21 columns</p>\n",
       "</div>"
      ],
      "text/plain": [
       "    datetime  temperature  dewpoint  rain  snowfall  surface_pressure  \\\n",
       "0 2021-09-01         14.2      11.6   0.0       0.0            1015.9   \n",
       "1 2021-09-01         13.9      11.5   0.0       0.0            1010.7   \n",
       "2 2021-09-01         14.0      12.5   0.0       0.0            1015.0   \n",
       "3 2021-09-01         14.6      11.5   0.0       0.0            1017.3   \n",
       "4 2021-09-01         15.7      12.9   0.0       0.0            1014.0   \n",
       "\n",
       "   cloudcover_total  cloudcover_low  cloudcover_mid  ...  shortwave_radiation  \\\n",
       "0                31              31               0  ...                  0.0   \n",
       "1                33              37               0  ...                  0.0   \n",
       "2                31              34               0  ...                  0.0   \n",
       "3                 0               0               0  ...                358.0   \n",
       "4                22              25               0  ...                  0.0   \n",
       "\n",
       "   direct_solar_radiation  diffuse_radiation  latitude  longitude  \\\n",
       "0                     0.0                0.0      57.6       21.7   \n",
       "1                     0.0                0.0      57.6       22.2   \n",
       "2                     0.0                0.0      57.6       22.7   \n",
       "3                   277.0               81.0      57.6       23.2   \n",
       "4                     0.0                0.0      57.6       23.7   \n",
       "\n",
       "   data_block_id        datetime_copy  datetime_date  datetime_time  \n",
       "0            1.0  2021-09-01 00:00:00     2021-09-01              0  \n",
       "1            1.0  2021-09-01 00:00:00     2021-09-01              0  \n",
       "2            1.0  2021-09-01 00:00:00     2021-09-01              0  \n",
       "3            1.0  2021-09-01 00:00:00     2021-09-01              0  \n",
       "4            1.0  2021-09-01 00:00:00     2021-09-01              0  \n",
       "\n",
       "[5 rows x 21 columns]"
      ]
     },
     "execution_count": 165,
     "metadata": {},
     "output_type": "execute_result"
    }
   ],
   "source": [
    "df_hist.head()"
   ]
  },
  {
   "cell_type": "code",
   "execution_count": 166,
   "metadata": {},
   "outputs": [
    {
     "data": {
      "text/plain": [
       "datetime                  datetime64[ns]\n",
       "temperature                      float64\n",
       "dewpoint                         float64\n",
       "rain                             float64\n",
       "snowfall                         float64\n",
       "surface_pressure                 float64\n",
       "cloudcover_total                   int64\n",
       "cloudcover_low                     int64\n",
       "cloudcover_mid                     int64\n",
       "cloudcover_high                    int64\n",
       "windspeed_10m                    float64\n",
       "winddirection_10m                  int64\n",
       "shortwave_radiation              float64\n",
       "direct_solar_radiation           float64\n",
       "diffuse_radiation                float64\n",
       "latitude                         float64\n",
       "longitude                        float64\n",
       "data_block_id                    float64\n",
       "datetime_copy                     object\n",
       "datetime_date                     object\n",
       "datetime_time                      int64\n",
       "dtype: object"
      ]
     },
     "execution_count": 166,
     "metadata": {},
     "output_type": "execute_result"
    }
   ],
   "source": [
    "df_hist.dtypes"
   ]
  },
  {
   "cell_type": "markdown",
   "metadata": {},
   "source": [
    "#### Conduct some logical tests"
   ]
  },
  {
   "cell_type": "code",
   "execution_count": 169,
   "metadata": {},
   "outputs": [
    {
     "data": {
      "image/png": "[encoded data removed]",
      "text/plain": [
       "<Figure size 1000x600 with 1 Axes>"
      ]
     },
     "metadata": {},
     "output_type": "display_data"
    }
   ],
   "source": [
    "# Filter data for the specific time\n",
    "subset_data = df_hist.query('datetime_time == 2')\n",
    "\n",
    "# Plot histogram using seaborn\n",
    "plt.figure(figsize=(10, 6))\n",
    "sns.histplot(subset_data['direct_solar_radiation'], bins=30, kde=True)\n",
    "plt.title('Distribution of Direct Solar Radiation at 2:00:00')\n",
    "plt.xlabel('Direct Solar Radiation')\n",
    "plt.ylabel('Frequency')\n",
    "plt.show()"
   ]
  },
  {
   "cell_type": "code",
   "execution_count": 180,
   "metadata": {},
   "outputs": [
    {
     "data": {
      "text/plain": [
       "0.0      70373\n",
       "65.0        21\n",
       "66.0        15\n",
       "16.0        14\n",
       "71.0        14\n",
       "         ...  \n",
       "245.0        1\n",
       "226.0        1\n",
       "237.0        1\n",
       "129.0        1\n",
       "157.0        1\n",
       "Name: diffuse_radiation, Length: 181, dtype: int64"
      ]
     },
     "execution_count": 180,
     "metadata": {},
     "output_type": "execute_result"
    }
   ],
   "source": [
    "df_hist.query('datetime_time == 3')['diffuse_radiation'].value_counts()"
   ]
  }
 ],
 "metadata": {
  "kernelspec": {
   "display_name": "ml-flow",
   "language": "python",
   "name": "python3"
  },
  "language_info": {
   "codemirror_mode": {
    "name": "ipython",
    "version": 3
   },
   "file_extension": ".py",
   "mimetype": "text/x-python",
   "name": "python",
   "nbconvert_exporter": "python",
   "pygments_lexer": "ipython3",
   "version": "3.9.18"
  }
 },
 "nbformat": 4,
 "nbformat_minor": 2
}
